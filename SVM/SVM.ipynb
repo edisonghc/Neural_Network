{
 "cells": [
  {
   "cell_type": "code",
   "execution_count": 14,
   "metadata": {
    "ExecuteTime": {
     "end_time": "2020-11-09T21:43:14.881750Z",
     "start_time": "2020-11-09T21:43:14.877259Z"
    }
   },
   "outputs": [],
   "source": [
    "import numpy as np\n",
    "from libsvm.python.svmutil import *\n",
    "import matplotlib.pyplot as plt\n",
    "\n",
    "from IPython.display import clear_output"
   ]
  },
  {
   "cell_type": "code",
   "execution_count": 15,
   "metadata": {
    "ExecuteTime": {
     "end_time": "2020-11-09T21:43:14.926667Z",
     "start_time": "2020-11-09T21:43:14.888845Z"
    },
    "scrolled": true
   },
   "outputs": [],
   "source": [
    "# Read in the training and testing data\n",
    "y_train, x_train = svm_read_problem('ncRNA_s.train.txt')\n",
    "y_test, x_test = svm_read_problem('ncRNA_s.test.txt')"
   ]
  },
  {
   "cell_type": "code",
   "execution_count": 16,
   "metadata": {
    "ExecuteTime": {
     "end_time": "2020-11-09T21:43:14.935330Z",
     "start_time": "2020-11-09T21:43:14.929961Z"
    }
   },
   "outputs": [],
   "source": [
    "# Default constants\n",
    "CV_SIZE = 1000\n",
    "N_FOLD = 5\n",
    "FOLD_SIZE = 200"
   ]
  },
  {
   "cell_type": "markdown",
   "metadata": {},
   "source": [
    "# Problem 1"
   ]
  },
  {
   "cell_type": "code",
   "execution_count": 17,
   "metadata": {
    "ExecuteTime": {
     "end_time": "2020-11-09T21:43:14.954750Z",
     "start_time": "2020-11-09T21:43:14.943400Z"
    }
   },
   "outputs": [
    {
     "data": {
      "text/plain": [
       "[0.015625,\n",
       " 0.03125,\n",
       " 0.0625,\n",
       " 0.125,\n",
       " 0.25,\n",
       " 0.5,\n",
       " 1,\n",
       " 2,\n",
       " 4,\n",
       " 8,\n",
       " 16,\n",
       " 32,\n",
       " 64,\n",
       " 128,\n",
       " 256,\n",
       " 512,\n",
       " 1024,\n",
       " 2048,\n",
       " 4096]"
      ]
     },
     "execution_count": 17,
     "metadata": {},
     "output_type": "execute_result"
    }
   ],
   "source": [
    "tunning_param_list = [2**p for p in range(-4, 9)]\n",
    "\n",
    "tunning_param_list"
   ]
  },
  {
   "cell_type": "code",
   "execution_count": 18,
   "metadata": {
    "ExecuteTime": {
     "end_time": "2020-11-09T21:43:14.982228Z",
     "start_time": "2020-11-09T21:43:14.964808Z"
    }
   },
   "outputs": [],
   "source": [
    "def svm_accuracy(y_train, x_train, y_test, x_test, c=1, t=0, g=None):\n",
    "    \n",
    "    gamma_arg = ''\n",
    "    if t == 2 and g is not None:\n",
    "        gamma_arg = f'-g {g}'\n",
    "    \n",
    "    # Train SVM on the training set with different c values\n",
    "    model = svm_train(y_train, x_train, f'-c {c} -t {t} {gamma_arg}') \n",
    "    \n",
    "    # Test the model with testing set\n",
    "    _, accuracy, _ = svm_predict(y_test, x_test, model, options='-q')\n",
    "    \n",
    "    return accuracy[0]"
   ]
  },
  {
   "cell_type": "code",
   "execution_count": 19,
   "metadata": {
    "ExecuteTime": {
     "end_time": "2020-11-09T21:43:17.720814Z",
     "start_time": "2020-11-09T21:43:14.986371Z"
    }
   },
   "outputs": [
    {
     "data": {
      "text/plain": [
       "[66.43356643356644,\n",
       " 66.43356643356644,\n",
       " 66.43356643356644,\n",
       " 66.43356643356644,\n",
       " 66.43356643356644,\n",
       " 77.82217782217782,\n",
       " 92.5074925074925,\n",
       " 94.00599400599401,\n",
       " 93.7062937062937,\n",
       " 93.8061938061938,\n",
       " 93.8061938061938,\n",
       " 93.8061938061938,\n",
       " 93.8061938061938,\n",
       " 93.8061938061938,\n",
       " 93.8061938061938,\n",
       " 93.8061938061938,\n",
       " 93.7062937062937,\n",
       " 93.7062937062937,\n",
       " 93.7062937062937]"
      ]
     },
     "execution_count": 19,
     "metadata": {},
     "output_type": "execute_result"
    }
   ],
   "source": [
    "history = []\n",
    "\n",
    "for c in tunning_param_list:\n",
    "    \n",
    "    accuracy = svm_accuracy(y_train, x_train, y_test, x_test, c=c)\n",
    "    \n",
    "    history.append(accuracy)\n",
    "\n",
    "history"
   ]
  },
  {
   "cell_type": "markdown",
   "metadata": {},
   "source": [
    "The test accuracy increased significantly from around 70% to 94%, as we increase the parameter c from values smaller than 1 to values that are greater than 1."
   ]
  },
  {
   "cell_type": "code",
   "execution_count": 20,
   "metadata": {
    "ExecuteTime": {
     "end_time": "2020-11-09T21:43:18.483442Z",
     "start_time": "2020-11-09T21:43:17.733293Z"
    }
   },
   "outputs": [
    {
     "data": {
      "image/png": "[encoded data removed]",
      "text/plain": [
       "<Figure size 432x288 with 1 Axes>"
      ]
     },
     "metadata": {
      "needs_background": "light"
     },
     "output_type": "display_data"
    }
   ],
   "source": [
    "plt.plot(tunning_param_list, history, 'o-')\n",
    "plt.xscale('log')\n",
    "plt.xlabel('c values')\n",
    "plt.ylabel('Testing Accuracy %')\n",
    "plt.show()"
   ]
  },
  {
   "cell_type": "markdown",
   "metadata": {},
   "source": [
    "# Problem 2"
   ]
  },
  {
   "cell_type": "markdown",
   "metadata": {},
   "source": [
    "## Part 1"
   ]
  },
  {
   "cell_type": "code",
   "execution_count": 21,
   "metadata": {
    "ExecuteTime": {
     "end_time": "2020-11-09T21:43:18.502833Z",
     "start_time": "2020-11-09T21:43:18.493802Z"
    }
   },
   "outputs": [],
   "source": [
    "# Randomly select 1000 samples for cross-validation training\n",
    "np.random.seed(1234)\n",
    "y_size = len(y_train)\n",
    "order = np.random.choice(range(y_size), size=CV_SIZE, replace=False)\n",
    "\n",
    "y_cv = [[] for f in range(N_FOLD)]\n",
    "x_cv = [[] for f in range(N_FOLD)]\n",
    "\n",
    "i = 0\n",
    "\n",
    "# Construct 5 subset for 5-fold cross-validation\n",
    "for index in order:\n",
    "    \n",
    "    fold = i // FOLD_SIZE\n",
    "    \n",
    "    y_cv[fold].append(y_train[index])\n",
    "    x_cv[fold].append(x_train[index])\n",
    "\n",
    "    i += 1"
   ]
  },
  {
   "cell_type": "code",
   "execution_count": 22,
   "metadata": {
    "ExecuteTime": {
     "end_time": "2020-11-09T21:43:18.524694Z",
     "start_time": "2020-11-09T21:43:18.515673Z"
    }
   },
   "outputs": [
    {
     "data": {
      "text/plain": [
       "(19, 19)"
      ]
     },
     "execution_count": 22,
     "metadata": {},
     "output_type": "execute_result"
    }
   ],
   "source": [
    "# Initialize an accuracy matrix\n",
    "matrix_dim = len(tunning_param_list)\n",
    "accuracy_matrix = np.zeros((matrix_dim, matrix_dim))\n",
    "\n",
    "accuracy_matrix.shape"
   ]
  },
  {
   "cell_type": "code",
   "execution_count": 23,
   "metadata": {
    "ExecuteTime": {
     "end_time": "2020-11-09T21:44:18.090049Z",
     "start_time": "2020-11-09T21:43:18.529762Z"
    }
   },
   "outputs": [
    {
     "name": "stdout",
     "output_type": "stream",
     "text": [
      "[[68.4 68.4 68.4 68.4 68.4 68.4 68.4 68.4 68.4 68.4 68.4 68.4 68.4 68.4\n",
      "  68.4 68.4 68.4 68.4 68.4]\n",
      " [68.4 68.4 68.4 68.4 68.4 68.4 68.4 68.4 68.4 68.4 68.4 68.4 68.4 68.4\n",
      "  68.4 68.4 68.4 68.4 68.4]\n",
      " [68.4 68.4 68.4 68.4 68.4 68.4 68.4 68.4 68.4 68.4 68.4 68.4 68.4 68.4\n",
      "  68.4 68.4 68.4 68.4 68.4]\n",
      " [68.4 68.4 68.4 68.4 68.4 68.4 68.4 68.4 68.4 68.4 68.4 68.4 68.4 68.4\n",
      "  68.4 68.4 68.4 68.4 68.4]\n",
      " [68.4 68.4 68.4 68.4 68.4 68.4 68.4 68.4 68.4 69.9 72.8 72.8 71.3 69.2\n",
      "  68.4 68.4 68.4 68.4 68.4]\n",
      " [68.4 68.4 68.4 68.4 68.4 68.5 68.8 70.2 77.4 81.3 80.7 78.7 75.4 72.6\n",
      "  69.5 68.4 68.4 68.4 68.4]\n",
      " [68.4 68.4 68.4 68.4 68.6 69.2 79.9 90.3 90.  89.  87.2 84.2 81.  76.1\n",
      "  72.3 69.5 68.3 68.3 68.3]\n",
      " [68.4 68.4 68.4 68.6 69.9 85.9 93.3 93.1 92.1 91.1 89.9 87.1 84.  79.1\n",
      "  73.4 70.1 68.5 68.3 68.3]\n",
      " [68.4 68.4 68.6 70.2 88.5 93.6 94.  93.3 92.7 91.8 90.2 86.9 84.3 78.6\n",
      "  73.3 70.1 68.5 68.3 68.3]\n",
      " [68.4 68.5 70.4 89.4 94.  94.4 93.9 93.8 93.2 91.3 90.1 87.  84.  78.6\n",
      "  73.3 70.1 68.5 68.3 68.3]\n",
      " [68.5 70.6 90.3 94.  94.2 94.1 94.2 93.8 93.3 90.8 89.  85.6 84.1 78.6\n",
      "  73.3 70.1 68.5 68.3 68.3]\n",
      " [70.7 90.5 94.3 94.2 94.4 94.2 94.2 94.  93.1 90.  89.1 84.9 84.2 78.7\n",
      "  73.3 70.1 68.5 68.3 68.3]\n",
      " [90.5 94.4 94.6 94.3 94.4 94.1 93.8 93.6 92.3 89.3 88.1 84.8 84.3 78.7\n",
      "  73.3 70.1 68.5 68.3 68.3]\n",
      " [94.3 94.5 94.5 94.3 94.3 94.  94.  93.2 91.7 89.1 86.9 84.9 84.3 78.7\n",
      "  73.3 70.1 68.5 68.3 68.3]\n",
      " [94.5 94.5 94.3 94.5 93.8 94.1 93.8 93.2 90.4 88.7 86.5 85.1 84.3 78.7\n",
      "  73.3 70.1 68.5 68.3 68.3]\n",
      " [94.7 94.3 94.7 94.3 94.1 93.9 93.9 92.7 89.8 87.2 86.7 85.5 84.4 78.7\n",
      "  73.3 70.1 68.5 68.3 68.3]\n",
      " [94.5 94.6 94.5 94.2 94.1 93.9 93.8 91.  89.  87.1 87.1 85.4 84.4 78.7\n",
      "  73.4 70.1 68.5 68.3 68.3]\n",
      " [94.5 94.4 94.4 94.1 94.1 93.9 92.8 90.4 88.8 87.1 86.9 85.6 84.7 78.8\n",
      "  73.4 70.1 68.5 68.3 68.3]\n",
      " [94.6 94.6 94.3 94.1 93.9 93.9 91.5 90.3 88.2 87.4 86.9 85.3 84.8 78.8\n",
      "  73.4 70.1 68.5 68.3 68.3]]\n",
      "\n",
      "Best c = 512; Best gamma = 0.015625\n"
     ]
    }
   ],
   "source": [
    "best_c = 0\n",
    "best_g = 0\n",
    "best_cv_accuracy = 0\n",
    "\n",
    "for i in range(matrix_dim):\n",
    "    \n",
    "    for j in range(matrix_dim):\n",
    "\n",
    "        fold_index = list(range(N_FOLD))\n",
    "\n",
    "        accuracy = 0\n",
    "\n",
    "        for index in range(N_FOLD):\n",
    "\n",
    "            fold_index.remove(index)\n",
    "\n",
    "            # Construct training set\n",
    "            y_train_folds = [y_cv[i] for i in fold_index]\n",
    "            y_cv_train = [sample for fold in y_train_folds for sample in fold]\n",
    "\n",
    "            x_train_folds = [x_cv[i] for i in fold_index]\n",
    "            x_cv_train = [sample for fold in x_train_folds for sample in fold]\n",
    "\n",
    "            # Construct validation set\n",
    "            y_cv_valid = y_cv[index]\n",
    "            x_cv_valid = x_cv[index]\n",
    "\n",
    "            # Restore fold_index\n",
    "            fold_index = list(range(N_FOLD))\n",
    "\n",
    "            # Evaluate the model for a given pair of c and gamma\n",
    "            c = tunning_param_list[i]\n",
    "            g = tunning_param_list[j]\n",
    "            accuracy += svm_accuracy(y_cv_train, x_cv_train, y_cv_valid, x_cv_valid, c=c, t=2, g=g)\n",
    "            \n",
    "        accuracy = accuracy / N_FOLD\n",
    "        \n",
    "        # Log the best parameters so far\n",
    "        if accuracy > best_cv_accuracy:\n",
    "            best_cv_accuracy = accuracy\n",
    "            best_c = c\n",
    "            best_g = g\n",
    "        \n",
    "        # Update the accuracy_matrix\n",
    "        clear_output(wait=True)\n",
    "        accuracy_matrix[i][j] = accuracy\n",
    "        print(accuracy_matrix)\n",
    "        print()\n",
    "        print(f'Best c = {best_c}; Best gamma = {best_g}')"
   ]
  },
  {
   "cell_type": "code",
   "execution_count": 24,
   "metadata": {
    "ExecuteTime": {
     "end_time": "2020-11-09T21:44:18.231740Z",
     "start_time": "2020-11-09T21:44:18.092575Z"
    }
   },
   "outputs": [
    {
     "data": {
      "image/png": "[encoded data removed]",
      "text/plain": [
       "<Figure size 288x288 with 1 Axes>"
      ]
     },
     "metadata": {
      "needs_background": "light"
     },
     "output_type": "display_data"
    }
   ],
   "source": [
    "plt.matshow(accuracy_matrix)\n",
    "plt.show()"
   ]
  },
  {
   "cell_type": "markdown",
   "metadata": {},
   "source": [
    "## Part 2"
   ]
  },
  {
   "cell_type": "markdown",
   "metadata": {},
   "source": [
    "The accuracy we can achieve by tunning parameters from cross-validation is:"
   ]
  },
  {
   "cell_type": "code",
   "execution_count": 25,
   "metadata": {
    "ExecuteTime": {
     "end_time": "2020-11-09T21:44:18.355639Z",
     "start_time": "2020-11-09T21:44:18.235919Z"
    }
   },
   "outputs": [
    {
     "data": {
      "text/plain": [
       "93.9060939060939"
      ]
     },
     "execution_count": 25,
     "metadata": {},
     "output_type": "execute_result"
    }
   ],
   "source": [
    "# Find the accuracy using the best c and gamma\n",
    "accuracy = svm_accuracy(y_train, x_train, y_test, x_test, c=best_c, t=2, g=best_g)\n",
    "\n",
    "accuracy"
   ]
  }
 ],
 "metadata": {
  "kernelspec": {
   "display_name": "Python 3",
   "language": "python",
   "name": "python3"
  },
  "language_info": {
   "codemirror_mode": {
    "name": "ipython",
    "version": 3
   },
   "file_extension": ".py",
   "mimetype": "text/x-python",
   "name": "python",
   "nbconvert_exporter": "python",
   "pygments_lexer": "ipython3",
   "version": "3.7.3"
  },
  "toc": {
   "base_numbering": 1,
   "nav_menu": {},
   "number_sections": false,
   "sideBar": true,
   "skip_h1_title": true,
   "title_cell": "Table of Contents",
   "title_sidebar": "Contents",
   "toc_cell": false,
   "toc_position": {},
   "toc_section_display": true,
   "toc_window_display": false
  },
  "varInspector": {
   "cols": {
    "lenName": 16,
    "lenType": 16,
    "lenVar": 40
   },
   "kernels_config": {
    "python": {
     "delete_cmd_postfix": "",
     "delete_cmd_prefix": "del ",
     "library": "var_list.py",
     "varRefreshCmd": "print(var_dic_list())"
    },
    "r": {
     "delete_cmd_postfix": ") ",
     "delete_cmd_prefix": "rm(",
     "library": "var_list.r",
     "varRefreshCmd": "cat(var_dic_list()) "
    }
   },
   "types_to_exclude": [
    "module",
    "function",
    "builtin_function_or_method",
    "instance",
    "_Feature"
   ],
   "window_display": false
  }
 },
 "nbformat": 4,
 "nbformat_minor": 2
}
