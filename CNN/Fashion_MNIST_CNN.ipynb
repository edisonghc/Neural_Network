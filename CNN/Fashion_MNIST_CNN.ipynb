{
 "cells": [
  {
   "cell_type": "markdown",
   "metadata": {},
   "source": [
    "# Provided code"
   ]
  },
  {
   "cell_type": "markdown",
   "metadata": {
    "id": "JBFQZ--ju_nQ"
   },
   "source": [
    "This code provides some examples of how to train a deep neural network for the Fashion-MNIST database.  You can use this as a training/test harness for developing your own ConvNet.\n",
    "\n",
    "Note that you will probably want to change your runtime to use GPU rather than CPU for this task, if you are on Colab."
   ]
  },
  {
   "cell_type": "code",
   "execution_count": null,
   "metadata": {
    "colab": {
     "base_uri": "https://localhost:8080/"
    },
    "id": "PVcdbKGfu7Mt",
    "outputId": "fbf85d34-2eed-4c49-a205-69246a3ba268"
   },
   "outputs": [
    {
     "name": "stdout",
     "output_type": "stream",
     "text": [
      "CPU times: user 429 ms, sys: 95.6 ms, total: 524 ms\n",
      "Wall time: 3.55 s\n"
     ]
    }
   ],
   "source": [
    "%%time\n",
    "# import standard PyTorch modules\n",
    "import torch\n",
    "import torch.nn as nn\n",
    "import torch.nn.functional as F\n",
    "import torch.optim as optim\n",
    "from torch.utils.tensorboard import SummaryWriter # TensorBoard support\n",
    "\n",
    "# import torchvision module to handle image manipulation\n",
    "import torchvision\n",
    "import torchvision.transforms as transforms\n",
    "\n",
    "# import other utilities\n",
    "import matplotlib.pyplot as plt"
   ]
  },
  {
   "cell_type": "markdown",
   "metadata": {
    "id": "pAgYIqCqOZQ7"
   },
   "source": [
    "## Data Loading"
   ]
  },
  {
   "cell_type": "markdown",
   "metadata": {
    "id": "e_ra6PVjwCoa"
   },
   "source": [
    "The following library call downloads the training set and puts it into data/FashionMNIST, and prepares the dataset to be passed into a pytorch as a tensor."
   ]
  },
  {
   "cell_type": "code",
   "execution_count": null,
   "metadata": {
    "colab": {
     "base_uri": "https://localhost:8080/",
     "height": 420,
     "referenced_widgets": [
      "7c28b5654cef4c7f9dbe65f5667b5bf5",
      "e5815bc07cd543259193a5f527d5f5f9",
      "a7c4d3a75cea426ca8f8013331be61e5",
      "a3a30dda5efb470a88ba9d8aa5120e3c",
      "1cd206e091594fce9fd4a6b73fd784bc",
      "b5f5db5ca51e45e4af8142fdd5f2bd55",
      "a1f164ad988943429645124902a723ec",
      "4e998f8ae57942b8b6914415e4cf9965",
      "e82871d1a5b54cb69bb12cb5e751f393",
      "947c2a0e1adc4083b0ddfce035f4fe54",
      "39843fea36e84c31bbf0f6d0d8580556",
      "a496f3e1576441a08f473ff23c2af2d7",
      "328608585897435ca5c272d71a3e6ed4",
      "8ef5ac8743224a1893670127dcc75dfb",
      "772d33a026b7490b9b7f639246ac3c4d",
      "07b7749f61b74860a42a974b27a28a9f",
      "ddb0ff7376e444379fd8de642675c3db",
      "7601122455b24327a3b6b33801d14e6a",
      "527f4497392e48b3be03db8371c50654",
      "a9f1c48d595e4d36afea84a6134b2fcd",
      "cc032e091bf044a4a949c4e87f78d717",
      "c141632d6bbc44259501dd6f4b30c11e",
      "c9e72290d6db4babb1079954f7503ecd",
      "7e9af16406d34af093af844204bb2077",
      "49b0f55a9b044bef860bebe03c22dcae",
      "25c391d3427443b0b5bf86f4cde09a92",
      "d8313b0a1c074446bcc18718afb30143",
      "87a7387e09994e73ab8cb25ea3215257",
      "0456993f894f4315b2ab0fec6dd9a622",
      "94f04b91ebc94a70ae66ddc8422b6bc8",
      "70621b8a485b448d9aee4156f34c6c46",
      "a8e4308dcdb04d93b07f5dc6e152f6b4"
     ]
    },
    "id": "XtphcZeJvs8x",
    "outputId": "cff7df4d-e30f-428e-dca8-36bcdcd99cb9"
   },
   "outputs": [
    {
     "name": "stdout",
     "output_type": "stream",
     "text": [
      "Downloading http://fashion-mnist.s3-website.eu-central-1.amazonaws.com/train-images-idx3-ubyte.gz to ./data/FashionMNIST/FashionMNIST/raw/train-images-idx3-ubyte.gz\n"
     ]
    },
    {
     "data": {
      "application/vnd.jupyter.widget-view+json": {
       "model_id": "7c28b5654cef4c7f9dbe65f5667b5bf5",
       "version_major": 2,
       "version_minor": 0
      },
      "text/plain": [
       "HBox(children=(FloatProgress(value=1.0, bar_style='info', max=1.0), HTML(value='')))"
      ]
     },
     "metadata": {
      "tags": []
     },
     "output_type": "display_data"
    },
    {
     "name": "stdout",
     "output_type": "stream",
     "text": [
      "Extracting ./data/FashionMNIST/FashionMNIST/raw/train-images-idx3-ubyte.gz to ./data/FashionMNIST/FashionMNIST/raw\n",
      "Downloading http://fashion-mnist.s3-website.eu-central-1.amazonaws.com/train-labels-idx1-ubyte.gz to ./data/FashionMNIST/FashionMNIST/raw/train-labels-idx1-ubyte.gz\n",
      "\n"
     ]
    },
    {
     "data": {
      "application/vnd.jupyter.widget-view+json": {
       "model_id": "e82871d1a5b54cb69bb12cb5e751f393",
       "version_major": 2,
       "version_minor": 0
      },
      "text/plain": [
       "HBox(children=(FloatProgress(value=1.0, bar_style='info', max=1.0), HTML(value='')))"
      ]
     },
     "metadata": {
      "tags": []
     },
     "output_type": "display_data"
    },
    {
     "name": "stdout",
     "output_type": "stream",
     "text": [
      "Extracting ./data/FashionMNIST/FashionMNIST/raw/train-labels-idx1-ubyte.gz to ./data/FashionMNIST/FashionMNIST/raw\n",
      "Downloading http://fashion-mnist.s3-website.eu-central-1.amazonaws.com/t10k-images-idx3-ubyte.gz to ./data/FashionMNIST/FashionMNIST/raw/t10k-images-idx3-ubyte.gz\n"
     ]
    },
    {
     "data": {
      "application/vnd.jupyter.widget-view+json": {
       "model_id": "ddb0ff7376e444379fd8de642675c3db",
       "version_major": 2,
       "version_minor": 0
      },
      "text/plain": [
       "HBox(children=(FloatProgress(value=1.0, bar_style='info', max=1.0), HTML(value='')))"
      ]
     },
     "metadata": {
      "tags": []
     },
     "output_type": "display_data"
    },
    {
     "name": "stdout",
     "output_type": "stream",
     "text": [
      "Extracting ./data/FashionMNIST/FashionMNIST/raw/t10k-images-idx3-ubyte.gz to ./data/FashionMNIST/FashionMNIST/raw\n",
      "Downloading http://fashion-mnist.s3-website.eu-central-1.amazonaws.com/t10k-labels-idx1-ubyte.gz to ./data/FashionMNIST/FashionMNIST/raw/t10k-labels-idx1-ubyte.gz\n"
     ]
    },
    {
     "data": {
      "application/vnd.jupyter.widget-view+json": {
       "model_id": "49b0f55a9b044bef860bebe03c22dcae",
       "version_major": 2,
       "version_minor": 0
      },
      "text/plain": [
       "HBox(children=(FloatProgress(value=1.0, bar_style='info', max=1.0), HTML(value='')))"
      ]
     },
     "metadata": {
      "tags": []
     },
     "output_type": "display_data"
    },
    {
     "name": "stdout",
     "output_type": "stream",
     "text": [
      "Extracting ./data/FashionMNIST/FashionMNIST/raw/t10k-labels-idx1-ubyte.gz to ./data/FashionMNIST/FashionMNIST/raw\n",
      "Processing...\n",
      "Done!\n",
      "CPU times: user 628 ms, sys: 301 ms, total: 929 ms\n",
      "Wall time: 5.67 s\n"
     ]
    },
    {
     "name": "stderr",
     "output_type": "stream",
     "text": [
      "/usr/local/lib/python3.6/dist-packages/torchvision/datasets/mnist.py:480: UserWarning: The given NumPy array is not writeable, and PyTorch does not support non-writeable tensors. This means you can write to the underlying (supposedly non-writeable) NumPy array using the tensor. You may want to copy the array to protect its data or make it writeable before converting it to a tensor. This type of warning will be suppressed for the rest of this program. (Triggered internally at  /pytorch/torch/csrc/utils/tensor_numpy.cpp:141.)\n",
      "  return torch.from_numpy(parsed.astype(m[2], copy=False)).view(*s)\n"
     ]
    }
   ],
   "source": [
    "%%time\n",
    "# Use standard FashionMNIST dataset\n",
    "train_set = torchvision.datasets.FashionMNIST(\n",
    "    root = './data/FashionMNIST',\n",
    "    train = True,\n",
    "    download = True,\n",
    "    transform = transforms.Compose([\n",
    "        transforms.ToTensor()                                 \n",
    "    ])\n",
    ")\n",
    "\n",
    "test_set = torchvision.datasets.FashionMNIST(\n",
    "    root = './data/FashionMNIST',\n",
    "    train = False,\n",
    "    download = False,\n",
    "    transform = transforms.Compose([\n",
    "        transforms.ToTensor()                                 \n",
    "    ])\n",
    ")"
   ]
  },
  {
   "cell_type": "markdown",
   "metadata": {
    "id": "iJCwm3VNOfNF"
   },
   "source": [
    "## Accuracy - Helper function"
   ]
  },
  {
   "cell_type": "markdown",
   "metadata": {
    "id": "ZzhKnPcSd3RP"
   },
   "source": [
    "Auxiliary function that reports the accuracy on a dataset."
   ]
  },
  {
   "cell_type": "code",
   "execution_count": null,
   "metadata": {
    "colab": {
     "base_uri": "https://localhost:8080/"
    },
    "id": "CuKEqezweA_S",
    "outputId": "dcfd3de4-fb2b-46f5-904a-f120f797a010"
   },
   "outputs": [
    {
     "name": "stdout",
     "output_type": "stream",
     "text": [
      "\n",
      "\n"
     ]
    }
   ],
   "source": [
    "def get_accuracy(model, dataloader):\n",
    "    \n",
    "    count=0\n",
    "    correct=0\n",
    "\n",
    "    model.eval()\n",
    "    \n",
    "    with torch.no_grad():\n",
    "        for batch in dataloader:\n",
    "\n",
    "            # Get inputs and labels\n",
    "            images = batch[0]\n",
    "            labels = batch[1]\n",
    "\n",
    "            # Forward pass            \n",
    "            preds = model(images)\n",
    "            \n",
    "            # Count correct and total samples\n",
    "            batch_correct = preds.argmax(dim=1).eq(labels).sum().item()\n",
    "            correct += batch_correct\n",
    "\n",
    "            batch_count = len(batch[0])\n",
    "            count += batch_count\n",
    "\n",
    "    model.train()\n",
    "    return correct / count"
   ]
  },
  {
   "cell_type": "markdown",
   "metadata": {
    "id": "nCAIhvmxONnz"
   },
   "source": [
    "## MLP"
   ]
  },
  {
   "cell_type": "markdown",
   "metadata": {
    "id": "mYmzeeyHxDCs"
   },
   "source": [
    "Here I'm defining a network that is a 2-layer DNN.  You will want to replace this with the ConvNet definitions."
   ]
  },
  {
   "cell_type": "code",
   "execution_count": null,
   "metadata": {
    "id": "pVhVxfNFwRLd"
   },
   "outputs": [],
   "source": [
    "# Build the neural network, expand on top of nn.Module\n",
    "class Network(nn.Module):\n",
    "\n",
    "    def __init__(self):\n",
    "        super().__init__()\n",
    "\n",
    "        # Define layers\n",
    "        self.fc1 = nn.Linear(in_features=28*28, out_features=200)\n",
    "        self.fc2 = nn.Linear(in_features=200, out_features=10)\n",
    "\n",
    "\n",
    "    # define forward function\n",
    "    def forward(self, t):\n",
    "        \n",
    "        # fc 1\n",
    "        t = t.reshape(-1, 28*28)\n",
    "        t = self.fc1(t)\n",
    "        t = F.relu(t)\n",
    "\n",
    "        # fc 2\n",
    "        t = self.fc2(t)\n",
    "        # don't need softmax here since we'll use cross-entropy as activation.\n",
    "\n",
    "        return t"
   ]
  },
  {
   "cell_type": "markdown",
   "metadata": {
    "id": "yIkypu3WdfiV"
   },
   "source": [
    "Train the model for three epochs (by default); report the training set accuracy after each epoch."
   ]
  },
  {
   "cell_type": "code",
   "execution_count": null,
   "metadata": {
    "colab": {
     "base_uri": "https://localhost:8080/"
    },
    "id": "Vq2sgd0sH5mr",
    "outputId": "e1607308-7492-4398-dc3d-29305c1358ef"
   },
   "outputs": [
    {
     "name": "stdout",
     "output_type": "stream",
     "text": [
      "Epoch 0: train set accuracy 0.80425\n",
      "Epoch 1: train set accuracy 0.83735\n",
      "Epoch 2: train set accuracy 0.848\n",
      "Epoch 3: train set accuracy 0.8507666666666667\n",
      "Epoch 4: train set accuracy 0.8625\n",
      "Epoch 5: train set accuracy 0.8673\n",
      "Epoch 6: train set accuracy 0.8653\n",
      "Epoch 7: train set accuracy 0.8772\n",
      "Epoch 8: train set accuracy 0.8769833333333333\n",
      "Epoch 9: train set accuracy 0.87875\n",
      "Epoch 9: test set accuracy 0.8621\n",
      "CPU times: user 1min 36s, sys: 144 ms, total: 1min 36s\n",
      "Wall time: 1min 36s\n"
     ]
    }
   ],
   "source": [
    "%%time\n",
    "lr = 0.001\n",
    "batch_size = 1000\n",
    "shuffle = True\n",
    "epochs = 10\n",
    "\n",
    "network = Network()\n",
    "loader = torch.utils.data.DataLoader(train_set, batch_size=batch_size, shuffle=shuffle)\n",
    "optimizer = optim.Adam(network.parameters(), lr=lr)\n",
    "\n",
    "# Set the network to training mode\n",
    "network.train()\n",
    "\n",
    "for epoch in range(epochs):\n",
    "    for batch in loader:\n",
    "        \n",
    "        # Get inputs and labels\n",
    "        images = batch[0]\n",
    "        labels = batch[1]\n",
    "\n",
    "        # Forward pass\n",
    "        preds = network(images)\n",
    "        loss = F.cross_entropy(preds, labels)\n",
    "\n",
    "        # Reset, Evaluate, then Update gradient\n",
    "        optimizer.zero_grad()\n",
    "        loss.backward()\n",
    "        optimizer.step()\n",
    "\n",
    "    print('Epoch {0}: train set accuracy {1}'.format(epoch, get_accuracy(network, loader)))\n",
    "\n",
    "test_loader = torch.utils.data.DataLoader(test_set, batch_size = batch_size)\n",
    "print('Epoch {0}: test set accuracy {1}'.format(epoch, get_accuracy(network, test_loader)))"
   ]
  },
  {
   "cell_type": "markdown",
   "metadata": {
    "id": "lievg6NC-VRu"
   },
   "source": [
    "# My implementation"
   ]
  },
  {
   "cell_type": "markdown",
   "metadata": {
    "id": "t3bF-o_vOSa_"
   },
   "source": [
    "## Baseline system"
   ]
  },
  {
   "cell_type": "code",
   "execution_count": null,
   "metadata": {
    "colab": {
     "base_uri": "https://localhost:8080/"
    },
    "id": "dq8tdy4M-ZvO",
    "outputId": "e665c0ef-2ac7-4c7c-a148-e4799f20a94b"
   },
   "outputs": [
    {
     "name": "stdout",
     "output_type": "stream",
     "text": [
      "BaselineNet(\n",
      "  (conv1): Conv2d(1, 8, kernel_size=(5, 5), stride=(1, 1))\n",
      "  (conv2): Conv2d(8, 12, kernel_size=(5, 5), stride=(1, 1), padding=(2, 2))\n",
      "  (fc1): Linear(in_features=432, out_features=256, bias=True)\n",
      "  (fc2): Linear(in_features=256, out_features=10, bias=True)\n",
      ")\n"
     ]
    }
   ],
   "source": [
    "# Extend nn.Module\n",
    "class BaselineNet(nn.Module):\n",
    "\n",
    "    def __init__(self):\n",
    "        super(BaselineNet, self).__init__()\n",
    "\n",
    "        # kernal\n",
    "        self.conv1 = nn.Conv2d(in_channels=1, out_channels=8, kernel_size=5)\n",
    "        self.conv2 = nn.Conv2d(in_channels=8, out_channels=12, kernel_size=5, padding=2)\n",
    "\n",
    "        # an affine operation: y = Wx + b\n",
    "        self.fc1 = nn.Linear(in_features=12*6*6, out_features=256)\n",
    "        self.fc2 = nn.Linear(in_features=256, out_features=10)\n",
    "\n",
    "\n",
    "    def forward(self, x):\n",
    "        \n",
    "        # Layer 1\n",
    "        x = self.conv1(x)\n",
    "        x = F.relu(x)\n",
    "        x = F.max_pool2d(x, kernel_size=2, stride=2)\n",
    "        \n",
    "        # Layer 2\n",
    "        x = self.conv2(x)\n",
    "        x = F.relu(x)\n",
    "        x = F.max_pool2d(x, kernel_size=2, stride=2)\n",
    "\n",
    "        # Layer 3\n",
    "        x = torch.flatten(x, start_dim=1) # flatten all dimensions except the batch dimension\n",
    "        x = self.fc1(x)\n",
    "        x = F.relu(x)\n",
    "\n",
    "        # Layer 4\n",
    "        x = self.fc2(x)\n",
    "        # Using F.cross_entropy as loss function later, \n",
    "        # which combines log_softmax and nll_loss in a single function\n",
    "        # No need to explicitly use softmax activation\n",
    "        # x = F.softmax(x, dim=1)\n",
    "\n",
    "        return x\n",
    "  \n",
    "net = BaselineNet()\n",
    "print(net)"
   ]
  },
  {
   "cell_type": "code",
   "execution_count": null,
   "metadata": {
    "colab": {
     "base_uri": "https://localhost:8080/"
    },
    "id": "heq63X4iOU7S",
    "outputId": "c19ff2f7-7218-4770-c01d-f38db625d990"
   },
   "outputs": [
    {
     "name": "stdout",
     "output_type": "stream",
     "text": [
      "Epoch 0: train set accuracy 0.731\n",
      "Epoch 1: train set accuracy 0.7638333333333334\n",
      "Epoch 2: train set accuracy 0.7949833333333334\n",
      "Epoch 3: train set accuracy 0.8229166666666666\n",
      "Epoch 4: train set accuracy 0.8385666666666667\n",
      "Epoch 5: train set accuracy 0.8430666666666666\n",
      "Epoch 6: train set accuracy 0.8500833333333333\n",
      "Epoch 7: train set accuracy 0.8555666666666667\n",
      "Epoch 8: train set accuracy 0.8598\n",
      "Epoch 9: train set accuracy 0.86435\n",
      "Epoch 9: test set accuracy 0.853\n",
      "CPU times: user 4min 17s, sys: 4.2 s, total: 4min 21s\n",
      "Wall time: 4min 21s\n"
     ]
    }
   ],
   "source": [
    "%%time\n",
    "lr = 0.001\n",
    "batch_size = 1000\n",
    "shuffle = True\n",
    "epochs = 10\n",
    "\n",
    "network = BaselineNet()\n",
    "loader = torch.utils.data.DataLoader(train_set, batch_size=batch_size, shuffle=shuffle)\n",
    "optimizer = optim.Adam(network.parameters(), lr=lr)\n",
    "\n",
    "# Set the network to training mode\n",
    "network.train()\n",
    "\n",
    "for epoch in range(epochs):\n",
    "    for batch in loader:\n",
    "        \n",
    "        # Get inputs and labels\n",
    "        images = batch[0]\n",
    "        labels = batch[1]\n",
    "\n",
    "        # Forward pass\n",
    "        preds = network(images)\n",
    "        loss = F.cross_entropy(preds, labels)\n",
    "\n",
    "        # Reset, Evaluate, then Update gradient\n",
    "        optimizer.zero_grad()\n",
    "        loss.backward()\n",
    "        optimizer.step()\n",
    "\n",
    "    print('Epoch {0}: train set accuracy {1}'.format(epoch, get_accuracy(network, loader)))\n",
    "\n",
    "test_loader = torch.utils.data.DataLoader(test_set, batch_size = batch_size)\n",
    "print('Epoch {0}: test set accuracy {1}'.format(epoch, get_accuracy(network, test_loader)))"
   ]
  },
  {
   "cell_type": "markdown",
   "metadata": {
    "id": "zpaVM90FOuTl"
   },
   "source": [
    "## Comparison systems"
   ]
  },
  {
   "cell_type": "markdown",
   "metadata": {
    "id": "cmqkSJL4Oz0o"
   },
   "source": [
    "### (1) Explore parameter tunning"
   ]
  },
  {
   "cell_type": "code",
   "execution_count": null,
   "metadata": {
    "colab": {
     "base_uri": "https://localhost:8080/"
    },
    "id": "gufyIws4WYQE",
    "outputId": "6d0da376-79d7-4316-aed8-dbeaa5ba8020"
   },
   "outputs": [
    {
     "name": "stdout",
     "output_type": "stream",
     "text": [
      "CompareNet(\n",
      "  (conv1): Conv2d(1, 8, kernel_size=(5, 5), stride=(1, 1))\n",
      "  (conv2): Conv2d(8, 12, kernel_size=(6, 6), stride=(1, 1), padding=(2, 2))\n",
      "  (fc1): Linear(in_features=300, out_features=256, bias=True)\n",
      "  (fc2): Linear(in_features=256, out_features=10, bias=True)\n",
      ")\n"
     ]
    }
   ],
   "source": [
    "# Extend nn.Module\n",
    "class CompareNet(nn.Module):\n",
    "\n",
    "    def __init__(self, k):\n",
    "        super(CompareNet, self).__init__()\n",
    "\n",
    "        # kernal\n",
    "        self.conv1 = nn.Conv2d(in_channels=1, out_channels=8, kernel_size=5)\n",
    "        self.conv2 = nn.Conv2d(in_channels=8, out_channels=12, kernel_size=k, padding=2)\n",
    "\n",
    "        conv2_output_dim = 17 - k # 12 + 4 - k + 1\n",
    "        maxpool_output_dim = torch.floor_divide(conv2_output_dim, 2)\n",
    "        fc1_in_features = 12 * maxpool_output_dim * maxpool_output_dim\n",
    "\n",
    "        # an affine operation: y = Wx + b\n",
    "        self.fc1 = nn.Linear(in_features=fc1_in_features, out_features=256)\n",
    "        self.fc2 = nn.Linear(in_features=256, out_features=10)\n",
    "\n",
    "\n",
    "    def forward(self, x):\n",
    "        \n",
    "        # Layer 1\n",
    "        x = self.conv1(x)\n",
    "        x = F.relu(x)\n",
    "        x = F.max_pool2d(x, kernel_size=2, stride=2)\n",
    "        \n",
    "        # Layer 2\n",
    "        x = self.conv2(x)\n",
    "        x = F.relu(x)\n",
    "        x = F.max_pool2d(x, kernel_size=2, stride=2)\n",
    "\n",
    "        # Layer 3\n",
    "        x = torch.flatten(x, start_dim=1) # flatten all dimensions except the batch dimension\n",
    "        x = self.fc1(x)\n",
    "        x = F.relu(x)\n",
    "\n",
    "        # Layer 4\n",
    "        x = self.fc2(x)\n",
    "        # Using F.cross_entropy as loss function later, \n",
    "        # which combines log_softmax and nll_loss in a single function\n",
    "        # No need to explicitly use softmax activation\n",
    "        # x = F.softmax(x, dim=1)\n",
    "\n",
    "        return x\n",
    "  \n",
    "net = CompareNet(k=6)\n",
    "print(net)"
   ]
  },
  {
   "cell_type": "code",
   "execution_count": null,
   "metadata": {
    "colab": {
     "base_uri": "https://localhost:8080/"
    },
    "id": "UmGPRGGsh36L",
    "outputId": "9566047d-4362-4697-8fb2-d11140801cf9"
   },
   "outputs": [
    {
     "name": "stdout",
     "output_type": "stream",
     "text": [
      "For k = 3:\n",
      "   Epoch 0: train set accuracy 0.7432666666666666\n",
      "   Epoch 1: train set accuracy 0.79295\n",
      "   Epoch 2: train set accuracy 0.8197833333333333\n",
      "   Epoch 3: train set accuracy 0.8436333333333333\n",
      "   Epoch 4: train set accuracy 0.8416666666666667\n",
      "   Epoch 5: train set accuracy 0.8471333333333333\n",
      "   Epoch 6: train set accuracy 0.8594\n",
      "   Epoch 7: train set accuracy 0.8642833333333333\n",
      "   Epoch 8: train set accuracy 0.8656333333333334\n",
      "   Epoch 9: train set accuracy 0.8717166666666667\n",
      "  Epoch 9: test set accuracy 0.8613\n",
      "For k = 4:\n",
      "   Epoch 0: train set accuracy 0.7423\n",
      "   Epoch 1: train set accuracy 0.7847833333333334\n",
      "   Epoch 2: train set accuracy 0.8079833333333334\n",
      "   Epoch 3: train set accuracy 0.8216833333333333\n",
      "   Epoch 4: train set accuracy 0.8394666666666667\n",
      "   Epoch 5: train set accuracy 0.8460666666666666\n",
      "   Epoch 6: train set accuracy 0.8530666666666666\n",
      "   Epoch 7: train set accuracy 0.85595\n",
      "   Epoch 8: train set accuracy 0.8650166666666667\n",
      "   Epoch 9: train set accuracy 0.86465\n",
      "  Epoch 9: test set accuracy 0.8543\n",
      "For k = 5:\n",
      "   Epoch 0: train set accuracy 0.7316333333333334\n",
      "   Epoch 1: train set accuracy 0.7563666666666666\n",
      "   Epoch 2: train set accuracy 0.7961333333333334\n",
      "   Epoch 3: train set accuracy 0.81235\n",
      "   Epoch 4: train set accuracy 0.8339\n",
      "   Epoch 5: train set accuracy 0.8438333333333333\n",
      "   Epoch 6: train set accuracy 0.85115\n",
      "   Epoch 7: train set accuracy 0.8604666666666667\n",
      "   Epoch 8: train set accuracy 0.8636166666666667\n",
      "   Epoch 9: train set accuracy 0.8687166666666667\n",
      "  Epoch 9: test set accuracy 0.8585\n",
      "For k = 6:\n",
      "   Epoch 0: train set accuracy 0.7304166666666667\n",
      "   Epoch 1: train set accuracy 0.7754\n",
      "   Epoch 2: train set accuracy 0.7912666666666667\n",
      "   Epoch 3: train set accuracy 0.8113333333333334\n",
      "   Epoch 4: train set accuracy 0.8238666666666666\n",
      "   Epoch 5: train set accuracy 0.8356833333333333\n",
      "   Epoch 6: train set accuracy 0.8504666666666667\n",
      "   Epoch 7: train set accuracy 0.84635\n",
      "   Epoch 8: train set accuracy 0.8555\n",
      "   Epoch 9: train set accuracy 0.8625333333333334\n",
      "  Epoch 9: test set accuracy 0.8541\n",
      "For k = 7:\n",
      "   Epoch 0: train set accuracy 0.7294\n",
      "   Epoch 1: train set accuracy 0.7488833333333333\n",
      "   Epoch 2: train set accuracy 0.7887166666666666\n",
      "   Epoch 3: train set accuracy 0.8114333333333333\n",
      "   Epoch 4: train set accuracy 0.8245\n",
      "   Epoch 5: train set accuracy 0.82585\n",
      "   Epoch 6: train set accuracy 0.8396166666666667\n",
      "   Epoch 7: train set accuracy 0.8504833333333334\n",
      "   Epoch 8: train set accuracy 0.8515\n",
      "   Epoch 9: train set accuracy 0.86215\n",
      "  Epoch 9: test set accuracy 0.8542\n",
      "For k = 8:\n",
      "   Epoch 0: train set accuracy 0.7367833333333333\n",
      "   Epoch 1: train set accuracy 0.7753333333333333\n",
      "   Epoch 2: train set accuracy 0.8078166666666666\n",
      "   Epoch 3: train set accuracy 0.8258666666666666\n",
      "   Epoch 4: train set accuracy 0.8416166666666667\n",
      "   Epoch 5: train set accuracy 0.8543833333333334\n",
      "   Epoch 6: train set accuracy 0.8581666666666666\n",
      "   Epoch 7: train set accuracy 0.8680333333333333\n",
      "   Epoch 8: train set accuracy 0.8736166666666667\n",
      "   Epoch 9: train set accuracy 0.8699833333333333\n",
      "  Epoch 9: test set accuracy 0.8597\n",
      "CPU times: user 25min 57s, sys: 21.7 s, total: 26min 19s\n",
      "Wall time: 26min 19s\n"
     ]
    }
   ],
   "source": [
    "%%time\n",
    "lr = 0.001\n",
    "batch_size = 1000\n",
    "shuffle = True\n",
    "epochs = 10\n",
    "\n",
    "k_seq = [3, 4, 5, 6, 7, 8]\n",
    "accuracy_hist = []\n",
    "\n",
    "for k in k_seq:\n",
    "    print(f'For k = {k}:')\n",
    "\n",
    "    network = CompareNet(k=k)\n",
    "    loader = torch.utils.data.DataLoader(train_set, batch_size=batch_size, shuffle=shuffle)\n",
    "    optimizer = optim.Adam(network.parameters(), lr=lr)\n",
    "\n",
    "    # Set the network to training mode\n",
    "    network.train()\n",
    "\n",
    "    for epoch in range(epochs):\n",
    "        for batch in loader:\n",
    "            \n",
    "            # Get inputs and labels\n",
    "            images = batch[0]\n",
    "            labels = batch[1]\n",
    "\n",
    "            # Forward pass\n",
    "            preds = network(images)\n",
    "            loss = F.cross_entropy(preds, labels)\n",
    "\n",
    "            # Reset, Evaluate, then Update gradient\n",
    "            optimizer.zero_grad()\n",
    "            loss.backward()\n",
    "            optimizer.step()\n",
    "\n",
    "        print('   Epoch {0}: train set accuracy {1}'.format(epoch, get_accuracy(network, loader)))\n",
    "\n",
    "    test_loader = torch.utils.data.DataLoader(test_set, batch_size = batch_size)\n",
    "    test_accuracy = get_accuracy(network, test_loader)\n",
    "    print('  Epoch {0}: test set accuracy {1}'.format(epoch, test_accuracy))\n",
    "    accuracy_hist.append(test_accuracy)"
   ]
  },
  {
   "cell_type": "code",
   "execution_count": null,
   "metadata": {
    "colab": {
     "base_uri": "https://localhost:8080/",
     "height": 265
    },
    "id": "ILLKxPnmjm-S",
    "outputId": "d5a67e78-4224-4a98-db46-658286979563"
   },
   "outputs": [
    {
     "data": {
      "image/png": "[encoded data removed]",
      "text/plain": [
       "<Figure size 432x288 with 1 Axes>"
      ]
     },
     "metadata": {
      "needs_background": "light",
      "tags": []
     },
     "output_type": "display_data"
    }
   ],
   "source": [
    "plt.plot(k_seq, accuracy_hist)\n",
    "plt.show()"
   ]
  },
  {
   "cell_type": "markdown",
   "metadata": {
    "id": "eymsFR9SMVK6"
   },
   "source": [
    "The above graph shows the **test accuracies** under different k values. It seems the highest accuracy was achieved with a 3 by 3 convolution kernal, while other larger kernal sizes generally have a worse performance than the 3 by 3 kernal. I think the reason behind this is that **smaller** kernal can capture more regional features than larger kernals. Global features or larger features should be captured with more convolutional layers as a pooling result."
   ]
  },
  {
   "cell_type": "markdown",
   "metadata": {
    "id": "OBHJ2093O6JR"
   },
   "source": [
    "### (2) An improved architecture with higher accuracy"
   ]
  },
  {
   "cell_type": "code",
   "execution_count": null,
   "metadata": {
    "colab": {
     "base_uri": "https://localhost:8080/"
    },
    "id": "jSEklY6huoPZ",
    "outputId": "8eb4cfef-4358-453e-a9b5-a902eeabeb4c"
   },
   "outputs": [
    {
     "name": "stdout",
     "output_type": "stream",
     "text": [
      "BetterNet(\n",
      "  (layer1): Sequential(\n",
      "    (0): Conv2d(1, 40, kernel_size=(3, 3), stride=(1, 1), padding=(1, 1))\n",
      "    (1): ReLU()\n",
      "    (2): MaxPool2d(kernel_size=2, stride=2, padding=0, dilation=1, ceil_mode=False)\n",
      "  )\n",
      "  (layer2): Sequential(\n",
      "    (0): Conv2d(40, 80, kernel_size=(3, 3), stride=(1, 1))\n",
      "    (1): ReLU()\n",
      "    (2): MaxPool2d(kernel_size=2, stride=2, padding=0, dilation=1, ceil_mode=False)\n",
      "  )\n",
      "  (fc1): Linear(in_features=2880, out_features=800, bias=True)\n",
      "  (fc2): Linear(in_features=800, out_features=10, bias=True)\n",
      ")\n"
     ]
    }
   ],
   "source": [
    "# Extend nn.Module\n",
    "class BetterNet(nn.Module):\n",
    "\n",
    "    def __init__(self):\n",
    "        super(BetterNet, self).__init__()\n",
    "        \n",
    "        # kernal\n",
    "        self.layer1 = nn.Sequential(\n",
    "            nn.Conv2d(in_channels=1, out_channels=40, kernel_size=3, padding=1),\n",
    "            nn.ReLU(),\n",
    "            nn.MaxPool2d(kernel_size=2, stride=2)\n",
    "        )\n",
    "\n",
    "        self.layer2 = nn.Sequential(\n",
    "            nn.Conv2d(in_channels=40, out_channels=80, kernel_size=3),\n",
    "            nn.ReLU(),\n",
    "            nn.MaxPool2d(kernel_size=2, stride=2)\n",
    "        )\n",
    "\n",
    "        # an affine operation: y = Wx + b\n",
    "        self.fc1 = nn.Linear(in_features=6*6*80, out_features=800)\n",
    "        self.fc2 = nn.Linear(in_features=800, out_features=10)\n",
    "\n",
    "\n",
    "    def forward(self, x):\n",
    "        \n",
    "        x = self.layer1(x)\n",
    "        x = self.layer2(x)\n",
    "      \n",
    "        # Layer 3\n",
    "        x = torch.flatten(x, start_dim=1) # flatten all dimensions except the batch dimension\n",
    "        x = self.fc1(x)\n",
    "        x = F.relu(x)\n",
    "\n",
    "        # Layer 4\n",
    "        x = self.fc2(x)\n",
    "        # Using F.cross_entropy as loss function later, \n",
    "        # which combines log_softmax and nll_loss in a single function\n",
    "        # No need to explicitly use softmax activation\n",
    "        # x = F.softmax(x, dim=1)\n",
    "\n",
    "        return x\n",
    "  \n",
    "net = BetterNet()\n",
    "print(net)"
   ]
  },
  {
   "cell_type": "code",
   "execution_count": null,
   "metadata": {
    "colab": {
     "base_uri": "https://localhost:8080/"
    },
    "id": "fYjgf_zoD0WV",
    "outputId": "6c4de285-1d50-4f48-cd7f-8909fce5df37"
   },
   "outputs": [
    {
     "name": "stdout",
     "output_type": "stream",
     "text": [
      "Epoch 0: train set accuracy 0.8050166666666667\n",
      "Epoch 1: train set accuracy 0.8600166666666667\n",
      "Epoch 2: train set accuracy 0.8740833333333333\n",
      "Epoch 3: train set accuracy 0.8878666666666667\n",
      "Epoch 4: train set accuracy 0.8942666666666667\n",
      "Epoch 5: train set accuracy 0.9023666666666667\n",
      "Epoch 6: train set accuracy 0.9004833333333333\n",
      "Epoch 7: train set accuracy 0.9144833333333333\n",
      "Epoch 8: train set accuracy 0.9192833333333333\n",
      "Epoch 9: train set accuracy 0.92505\n",
      "Epoch 9: test set accuracy 0.9069\n",
      "CPU times: user 19min 7s, sys: 11.6 s, total: 19min 18s\n",
      "Wall time: 19min 19s\n"
     ]
    }
   ],
   "source": [
    "%%time\n",
    "lr = 0.001\n",
    "batch_size = 1000\n",
    "shuffle = True\n",
    "epochs = 10\n",
    "\n",
    "network = BetterNet()\n",
    "loader = torch.utils.data.DataLoader(train_set, batch_size=batch_size, shuffle=shuffle)\n",
    "optimizer = optim.Adam(network.parameters(), lr=lr)\n",
    "\n",
    "# Set the network to training mode\n",
    "network.train()\n",
    "\n",
    "for epoch in range(epochs):\n",
    "    for batch in loader:\n",
    "        \n",
    "        # Get inputs and labels\n",
    "        images = batch[0]\n",
    "        labels = batch[1]\n",
    "\n",
    "        # Forward pass\n",
    "        preds = network(images)\n",
    "        loss = F.cross_entropy(preds, labels)\n",
    "\n",
    "        # Reset, Evaluate, then Update gradient\n",
    "        optimizer.zero_grad()\n",
    "        loss.backward()\n",
    "        optimizer.step()\n",
    "\n",
    "    print('Epoch {0}: train set accuracy {1}'.format(epoch, get_accuracy(network, loader)))\n",
    "\n",
    "test_loader = torch.utils.data.DataLoader(test_set, batch_size = batch_size)\n",
    "print('Epoch {0}: test set accuracy {1}'.format(epoch, get_accuracy(network, test_loader)))"
   ]
  },
  {
   "cell_type": "markdown",
   "metadata": {
    "id": "5xD7FBbfQEKi"
   },
   "source": [
    "The final proposed model had a test accuracy around 90.5%.\n",
    "\n",
    "I started with making the convolution kernals smaller (3 by 3) in both layers - this improved the model accuracy by quite a bit. With smaller convolution kernals (masks), the CNN can extract regional features.\n",
    "\n",
    "Then I suplimented the model with more channels in each layer to improve the accuracy further. With 40 channels in the first convolutional layer and 80 in the second, the CNN is able to extract more features at each layers. This improves the predictive accuracy.\n",
    "\n",
    "During the experiment, I also noticed that the improvement we could make becomes smaller as we keep increasing the number of channels in each layer. Adding more convolutional layers or fully connected layers did not help much with the accuracy. I also tried to make the subsampling (maxpooling) stride smaller, 1 instead of 2, but there is no meaningful improvement in accuracy. In addition, the training is suffering from significant slow-down due to high numbers of input / output channels.\n",
    "\n",
    "I read some literatures online about training CNN - I found out it is also common to include regularizations in the network training, such as Dropout layers and BatchNorm layers, these can further improve the testing accuracy and speed up the training time. These architectures were not included in this project instructions, therefore were not implemented here."
   ]
  }
 ],
 "metadata": {
  "accelerator": "GPU",
  "colab": {
   "collapsed_sections": [],
   "name": "ConvNet Lab Framework.ipynb",
   "provenance": [],
   "toc_visible": true
  },
  "kernelspec": {
   "display_name": "Python 3",
   "language": "python",
   "name": "python3"
  },
  "language_info": {
   "codemirror_mode": {
    "name": "ipython",
    "version": 3
   },
   "file_extension": ".py",
   "mimetype": "text/x-python",
   "name": "python",
   "nbconvert_exporter": "python",
   "pygments_lexer": "ipython3",
   "version": "3.7.3"
  },
  "toc": {
   "base_numbering": 1,
   "nav_menu": {},
   "number_sections": true,
   "sideBar": true,
   "skip_h1_title": false,
   "title_cell": "Table of Contents",
   "title_sidebar": "Contents",
   "toc_cell": false,
   "toc_position": {},
   "toc_section_display": true,
   "toc_window_display": true
  },
  "varInspector": {
   "cols": {
    "lenName": 16,
    "lenType": 16,
    "lenVar": 40
   },
   "kernels_config": {
    "python": {
     "delete_cmd_postfix": "",
     "delete_cmd_prefix": "del ",
     "library": "var_list.py",
     "varRefreshCmd": "print(var_dic_list())"
    },
    "r": {
     "delete_cmd_postfix": ") ",
     "delete_cmd_prefix": "rm(",
     "library": "var_list.r",
     "varRefreshCmd": "cat(var_dic_list()) "
    }
   },
   "types_to_exclude": [
    "module",
    "function",
    "builtin_function_or_method",
    "instance",
    "_Feature"
   ],
   "window_display": false
  },
  "widgets": {
   "application/vnd.jupyter.widget-state+json": {
    "0456993f894f4315b2ab0fec6dd9a622": {
     "model_module": "@jupyter-widgets/controls",
     "model_name": "ProgressStyleModel",
     "state": {
      "_model_module": "@jupyter-widgets/controls",
      "_model_module_version": "1.5.0",
      "_model_name": "ProgressStyleModel",
      "_view_count": null,
      "_view_module": "@jupyter-widgets/base",
      "_view_module_version": "1.2.0",
      "_view_name": "StyleView",
      "bar_color": null,
      "description_width": "initial"
     }
    },
    "07b7749f61b74860a42a974b27a28a9f": {
     "model_module": "@jupyter-widgets/base",
     "model_name": "LayoutModel",
     "state": {
      "_model_module": "@jupyter-widgets/base",
      "_model_module_version": "1.2.0",
      "_model_name": "LayoutModel",
      "_view_count": null,
      "_view_module": "@jupyter-widgets/base",
      "_view_module_version": "1.2.0",
      "_view_name": "LayoutView",
      "align_content": null,
      "align_items": null,
      "align_self": null,
      "border": null,
      "bottom": null,
      "display": null,
      "flex": null,
      "flex_flow": null,
      "grid_area": null,
      "grid_auto_columns": null,
      "grid_auto_flow": null,
      "grid_auto_rows": null,
      "grid_column": null,
      "grid_gap": null,
      "grid_row": null,
      "grid_template_areas": null,
      "grid_template_columns": null,
      "grid_template_rows": null,
      "height": null,
      "justify_content": null,
      "justify_items": null,
      "left": null,
      "margin": null,
      "max_height": null,
      "max_width": null,
      "min_height": null,
      "min_width": null,
      "object_fit": null,
      "object_position": null,
      "order": null,
      "overflow": null,
      "overflow_x": null,
      "overflow_y": null,
      "padding": null,
      "right": null,
      "top": null,
      "visibility": null,
      "width": null
     }
    },
    "1cd206e091594fce9fd4a6b73fd784bc": {
     "model_module": "@jupyter-widgets/controls",
     "model_name": "ProgressStyleModel",
     "state": {
      "_model_module": "@jupyter-widgets/controls",
      "_model_module_version": "1.5.0",
      "_model_name": "ProgressStyleModel",
      "_view_count": null,
      "_view_module": "@jupyter-widgets/base",
      "_view_module_version": "1.2.0",
      "_view_name": "StyleView",
      "bar_color": null,
      "description_width": "initial"
     }
    },
    "25c391d3427443b0b5bf86f4cde09a92": {
     "model_module": "@jupyter-widgets/base",
     "model_name": "LayoutModel",
     "state": {
      "_model_module": "@jupyter-widgets/base",
      "_model_module_version": "1.2.0",
      "_model_name": "LayoutModel",
      "_view_count": null,
      "_view_module": "@jupyter-widgets/base",
      "_view_module_version": "1.2.0",
      "_view_name": "LayoutView",
      "align_content": null,
      "align_items": null,
      "align_self": null,
      "border": null,
      "bottom": null,
      "display": null,
      "flex": null,
      "flex_flow": null,
      "grid_area": null,
      "grid_auto_columns": null,
      "grid_auto_flow": null,
      "grid_auto_rows": null,
      "grid_column": null,
      "grid_gap": null,
      "grid_row": null,
      "grid_template_areas": null,
      "grid_template_columns": null,
      "grid_template_rows": null,
      "height": null,
      "justify_content": null,
      "justify_items": null,
      "left": null,
      "margin": null,
      "max_height": null,
      "max_width": null,
      "min_height": null,
      "min_width": null,
      "object_fit": null,
      "object_position": null,
      "order": null,
      "overflow": null,
      "overflow_x": null,
      "overflow_y": null,
      "padding": null,
      "right": null,
      "top": null,
      "visibility": null,
      "width": null
     }
    },
    "328608585897435ca5c272d71a3e6ed4": {
     "model_module": "@jupyter-widgets/controls",
     "model_name": "ProgressStyleModel",
     "state": {
      "_model_module": "@jupyter-widgets/controls",
      "_model_module_version": "1.5.0",
      "_model_name": "ProgressStyleModel",
      "_view_count": null,
      "_view_module": "@jupyter-widgets/base",
      "_view_module_version": "1.2.0",
      "_view_name": "StyleView",
      "bar_color": null,
      "description_width": "initial"
     }
    },
    "39843fea36e84c31bbf0f6d0d8580556": {
     "model_module": "@jupyter-widgets/controls",
     "model_name": "FloatProgressModel",
     "state": {
      "_dom_classes": [],
      "_model_module": "@jupyter-widgets/controls",
      "_model_module_version": "1.5.0",
      "_model_name": "FloatProgressModel",
      "_view_count": null,
      "_view_module": "@jupyter-widgets/controls",
      "_view_module_version": "1.5.0",
      "_view_name": "ProgressView",
      "bar_style": "info",
      "description": "",
      "description_tooltip": null,
      "layout": "IPY_MODEL_8ef5ac8743224a1893670127dcc75dfb",
      "max": 1,
      "min": 0,
      "orientation": "horizontal",
      "style": "IPY_MODEL_328608585897435ca5c272d71a3e6ed4",
      "value": 1
     }
    },
    "49b0f55a9b044bef860bebe03c22dcae": {
     "model_module": "@jupyter-widgets/controls",
     "model_name": "HBoxModel",
     "state": {
      "_dom_classes": [],
      "_model_module": "@jupyter-widgets/controls",
      "_model_module_version": "1.5.0",
      "_model_name": "HBoxModel",
      "_view_count": null,
      "_view_module": "@jupyter-widgets/controls",
      "_view_module_version": "1.5.0",
      "_view_name": "HBoxView",
      "box_style": "",
      "children": [
       "IPY_MODEL_d8313b0a1c074446bcc18718afb30143",
       "IPY_MODEL_87a7387e09994e73ab8cb25ea3215257"
      ],
      "layout": "IPY_MODEL_25c391d3427443b0b5bf86f4cde09a92"
     }
    },
    "4e998f8ae57942b8b6914415e4cf9965": {
     "model_module": "@jupyter-widgets/base",
     "model_name": "LayoutModel",
     "state": {
      "_model_module": "@jupyter-widgets/base",
      "_model_module_version": "1.2.0",
      "_model_name": "LayoutModel",
      "_view_count": null,
      "_view_module": "@jupyter-widgets/base",
      "_view_module_version": "1.2.0",
      "_view_name": "LayoutView",
      "align_content": null,
      "align_items": null,
      "align_self": null,
      "border": null,
      "bottom": null,
      "display": null,
      "flex": null,
      "flex_flow": null,
      "grid_area": null,
      "grid_auto_columns": null,
      "grid_auto_flow": null,
      "grid_auto_rows": null,
      "grid_column": null,
      "grid_gap": null,
      "grid_row": null,
      "grid_template_areas": null,
      "grid_template_columns": null,
      "grid_template_rows": null,
      "height": null,
      "justify_content": null,
      "justify_items": null,
      "left": null,
      "margin": null,
      "max_height": null,
      "max_width": null,
      "min_height": null,
      "min_width": null,
      "object_fit": null,
      "object_position": null,
      "order": null,
      "overflow": null,
      "overflow_x": null,
      "overflow_y": null,
      "padding": null,
      "right": null,
      "top": null,
      "visibility": null,
      "width": null
     }
    },
    "527f4497392e48b3be03db8371c50654": {
     "model_module": "@jupyter-widgets/controls",
     "model_name": "FloatProgressModel",
     "state": {
      "_dom_classes": [],
      "_model_module": "@jupyter-widgets/controls",
      "_model_module_version": "1.5.0",
      "_model_name": "FloatProgressModel",
      "_view_count": null,
      "_view_module": "@jupyter-widgets/controls",
      "_view_module_version": "1.5.0",
      "_view_name": "ProgressView",
      "bar_style": "success",
      "description": "",
      "description_tooltip": null,
      "layout": "IPY_MODEL_c141632d6bbc44259501dd6f4b30c11e",
      "max": 1,
      "min": 0,
      "orientation": "horizontal",
      "style": "IPY_MODEL_cc032e091bf044a4a949c4e87f78d717",
      "value": 1
     }
    },
    "70621b8a485b448d9aee4156f34c6c46": {
     "model_module": "@jupyter-widgets/controls",
     "model_name": "DescriptionStyleModel",
     "state": {
      "_model_module": "@jupyter-widgets/controls",
      "_model_module_version": "1.5.0",
      "_model_name": "DescriptionStyleModel",
      "_view_count": null,
      "_view_module": "@jupyter-widgets/base",
      "_view_module_version": "1.2.0",
      "_view_name": "StyleView",
      "description_width": ""
     }
    },
    "7601122455b24327a3b6b33801d14e6a": {
     "model_module": "@jupyter-widgets/base",
     "model_name": "LayoutModel",
     "state": {
      "_model_module": "@jupyter-widgets/base",
      "_model_module_version": "1.2.0",
      "_model_name": "LayoutModel",
      "_view_count": null,
      "_view_module": "@jupyter-widgets/base",
      "_view_module_version": "1.2.0",
      "_view_name": "LayoutView",
      "align_content": null,
      "align_items": null,
      "align_self": null,
      "border": null,
      "bottom": null,
      "display": null,
      "flex": null,
      "flex_flow": null,
      "grid_area": null,
      "grid_auto_columns": null,
      "grid_auto_flow": null,
      "grid_auto_rows": null,
      "grid_column": null,
      "grid_gap": null,
      "grid_row": null,
      "grid_template_areas": null,
      "grid_template_columns": null,
      "grid_template_rows": null,
      "height": null,
      "justify_content": null,
      "justify_items": null,
      "left": null,
      "margin": null,
      "max_height": null,
      "max_width": null,
      "min_height": null,
      "min_width": null,
      "object_fit": null,
      "object_position": null,
      "order": null,
      "overflow": null,
      "overflow_x": null,
      "overflow_y": null,
      "padding": null,
      "right": null,
      "top": null,
      "visibility": null,
      "width": null
     }
    },
    "772d33a026b7490b9b7f639246ac3c4d": {
     "model_module": "@jupyter-widgets/controls",
     "model_name": "DescriptionStyleModel",
     "state": {
      "_model_module": "@jupyter-widgets/controls",
      "_model_module_version": "1.5.0",
      "_model_name": "DescriptionStyleModel",
      "_view_count": null,
      "_view_module": "@jupyter-widgets/base",
      "_view_module_version": "1.2.0",
      "_view_name": "StyleView",
      "description_width": ""
     }
    },
    "7c28b5654cef4c7f9dbe65f5667b5bf5": {
     "model_module": "@jupyter-widgets/controls",
     "model_name": "HBoxModel",
     "state": {
      "_dom_classes": [],
      "_model_module": "@jupyter-widgets/controls",
      "_model_module_version": "1.5.0",
      "_model_name": "HBoxModel",
      "_view_count": null,
      "_view_module": "@jupyter-widgets/controls",
      "_view_module_version": "1.5.0",
      "_view_name": "HBoxView",
      "box_style": "",
      "children": [
       "IPY_MODEL_a7c4d3a75cea426ca8f8013331be61e5",
       "IPY_MODEL_a3a30dda5efb470a88ba9d8aa5120e3c"
      ],
      "layout": "IPY_MODEL_e5815bc07cd543259193a5f527d5f5f9"
     }
    },
    "7e9af16406d34af093af844204bb2077": {
     "model_module": "@jupyter-widgets/base",
     "model_name": "LayoutModel",
     "state": {
      "_model_module": "@jupyter-widgets/base",
      "_model_module_version": "1.2.0",
      "_model_name": "LayoutModel",
      "_view_count": null,
      "_view_module": "@jupyter-widgets/base",
      "_view_module_version": "1.2.0",
      "_view_name": "LayoutView",
      "align_content": null,
      "align_items": null,
      "align_self": null,
      "border": null,
      "bottom": null,
      "display": null,
      "flex": null,
      "flex_flow": null,
      "grid_area": null,
      "grid_auto_columns": null,
      "grid_auto_flow": null,
      "grid_auto_rows": null,
      "grid_column": null,
      "grid_gap": null,
      "grid_row": null,
      "grid_template_areas": null,
      "grid_template_columns": null,
      "grid_template_rows": null,
      "height": null,
      "justify_content": null,
      "justify_items": null,
      "left": null,
      "margin": null,
      "max_height": null,
      "max_width": null,
      "min_height": null,
      "min_width": null,
      "object_fit": null,
      "object_position": null,
      "order": null,
      "overflow": null,
      "overflow_x": null,
      "overflow_y": null,
      "padding": null,
      "right": null,
      "top": null,
      "visibility": null,
      "width": null
     }
    },
    "87a7387e09994e73ab8cb25ea3215257": {
     "model_module": "@jupyter-widgets/controls",
     "model_name": "HTMLModel",
     "state": {
      "_dom_classes": [],
      "_model_module": "@jupyter-widgets/controls",
      "_model_module_version": "1.5.0",
      "_model_name": "HTMLModel",
      "_view_count": null,
      "_view_module": "@jupyter-widgets/controls",
      "_view_module_version": "1.5.0",
      "_view_name": "HTMLView",
      "description": "",
      "description_tooltip": null,
      "layout": "IPY_MODEL_a8e4308dcdb04d93b07f5dc6e152f6b4",
      "placeholder": "​",
      "style": "IPY_MODEL_70621b8a485b448d9aee4156f34c6c46",
      "value": " 8192/? [00:00&lt;00:00, 13952.30it/s]"
     }
    },
    "8ef5ac8743224a1893670127dcc75dfb": {
     "model_module": "@jupyter-widgets/base",
     "model_name": "LayoutModel",
     "state": {
      "_model_module": "@jupyter-widgets/base",
      "_model_module_version": "1.2.0",
      "_model_name": "LayoutModel",
      "_view_count": null,
      "_view_module": "@jupyter-widgets/base",
      "_view_module_version": "1.2.0",
      "_view_name": "LayoutView",
      "align_content": null,
      "align_items": null,
      "align_self": null,
      "border": null,
      "bottom": null,
      "display": null,
      "flex": null,
      "flex_flow": null,
      "grid_area": null,
      "grid_auto_columns": null,
      "grid_auto_flow": null,
      "grid_auto_rows": null,
      "grid_column": null,
      "grid_gap": null,
      "grid_row": null,
      "grid_template_areas": null,
      "grid_template_columns": null,
      "grid_template_rows": null,
      "height": null,
      "justify_content": null,
      "justify_items": null,
      "left": null,
      "margin": null,
      "max_height": null,
      "max_width": null,
      "min_height": null,
      "min_width": null,
      "object_fit": null,
      "object_position": null,
      "order": null,
      "overflow": null,
      "overflow_x": null,
      "overflow_y": null,
      "padding": null,
      "right": null,
      "top": null,
      "visibility": null,
      "width": null
     }
    },
    "947c2a0e1adc4083b0ddfce035f4fe54": {
     "model_module": "@jupyter-widgets/base",
     "model_name": "LayoutModel",
     "state": {
      "_model_module": "@jupyter-widgets/base",
      "_model_module_version": "1.2.0",
      "_model_name": "LayoutModel",
      "_view_count": null,
      "_view_module": "@jupyter-widgets/base",
      "_view_module_version": "1.2.0",
      "_view_name": "LayoutView",
      "align_content": null,
      "align_items": null,
      "align_self": null,
      "border": null,
      "bottom": null,
      "display": null,
      "flex": null,
      "flex_flow": null,
      "grid_area": null,
      "grid_auto_columns": null,
      "grid_auto_flow": null,
      "grid_auto_rows": null,
      "grid_column": null,
      "grid_gap": null,
      "grid_row": null,
      "grid_template_areas": null,
      "grid_template_columns": null,
      "grid_template_rows": null,
      "height": null,
      "justify_content": null,
      "justify_items": null,
      "left": null,
      "margin": null,
      "max_height": null,
      "max_width": null,
      "min_height": null,
      "min_width": null,
      "object_fit": null,
      "object_position": null,
      "order": null,
      "overflow": null,
      "overflow_x": null,
      "overflow_y": null,
      "padding": null,
      "right": null,
      "top": null,
      "visibility": null,
      "width": null
     }
    },
    "94f04b91ebc94a70ae66ddc8422b6bc8": {
     "model_module": "@jupyter-widgets/base",
     "model_name": "LayoutModel",
     "state": {
      "_model_module": "@jupyter-widgets/base",
      "_model_module_version": "1.2.0",
      "_model_name": "LayoutModel",
      "_view_count": null,
      "_view_module": "@jupyter-widgets/base",
      "_view_module_version": "1.2.0",
      "_view_name": "LayoutView",
      "align_content": null,
      "align_items": null,
      "align_self": null,
      "border": null,
      "bottom": null,
      "display": null,
      "flex": null,
      "flex_flow": null,
      "grid_area": null,
      "grid_auto_columns": null,
      "grid_auto_flow": null,
      "grid_auto_rows": null,
      "grid_column": null,
      "grid_gap": null,
      "grid_row": null,
      "grid_template_areas": null,
      "grid_template_columns": null,
      "grid_template_rows": null,
      "height": null,
      "justify_content": null,
      "justify_items": null,
      "left": null,
      "margin": null,
      "max_height": null,
      "max_width": null,
      "min_height": null,
      "min_width": null,
      "object_fit": null,
      "object_position": null,
      "order": null,
      "overflow": null,
      "overflow_x": null,
      "overflow_y": null,
      "padding": null,
      "right": null,
      "top": null,
      "visibility": null,
      "width": null
     }
    },
    "a1f164ad988943429645124902a723ec": {
     "model_module": "@jupyter-widgets/controls",
     "model_name": "DescriptionStyleModel",
     "state": {
      "_model_module": "@jupyter-widgets/controls",
      "_model_module_version": "1.5.0",
      "_model_name": "DescriptionStyleModel",
      "_view_count": null,
      "_view_module": "@jupyter-widgets/base",
      "_view_module_version": "1.2.0",
      "_view_name": "StyleView",
      "description_width": ""
     }
    },
    "a3a30dda5efb470a88ba9d8aa5120e3c": {
     "model_module": "@jupyter-widgets/controls",
     "model_name": "HTMLModel",
     "state": {
      "_dom_classes": [],
      "_model_module": "@jupyter-widgets/controls",
      "_model_module_version": "1.5.0",
      "_model_name": "HTMLModel",
      "_view_count": null,
      "_view_module": "@jupyter-widgets/controls",
      "_view_module_version": "1.5.0",
      "_view_name": "HTMLView",
      "description": "",
      "description_tooltip": null,
      "layout": "IPY_MODEL_4e998f8ae57942b8b6914415e4cf9965",
      "placeholder": "​",
      "style": "IPY_MODEL_a1f164ad988943429645124902a723ec",
      "value": " 26427392/? [00:03&lt;00:00, 8589814.77it/s]"
     }
    },
    "a496f3e1576441a08f473ff23c2af2d7": {
     "model_module": "@jupyter-widgets/controls",
     "model_name": "HTMLModel",
     "state": {
      "_dom_classes": [],
      "_model_module": "@jupyter-widgets/controls",
      "_model_module_version": "1.5.0",
      "_model_name": "HTMLModel",
      "_view_count": null,
      "_view_module": "@jupyter-widgets/controls",
      "_view_module_version": "1.5.0",
      "_view_name": "HTMLView",
      "description": "",
      "description_tooltip": null,
      "layout": "IPY_MODEL_07b7749f61b74860a42a974b27a28a9f",
      "placeholder": "​",
      "style": "IPY_MODEL_772d33a026b7490b9b7f639246ac3c4d",
      "value": " 32768/? [00:16&lt;00:00, 116899.08it/s]"
     }
    },
    "a7c4d3a75cea426ca8f8013331be61e5": {
     "model_module": "@jupyter-widgets/controls",
     "model_name": "FloatProgressModel",
     "state": {
      "_dom_classes": [],
      "_model_module": "@jupyter-widgets/controls",
      "_model_module_version": "1.5.0",
      "_model_name": "FloatProgressModel",
      "_view_count": null,
      "_view_module": "@jupyter-widgets/controls",
      "_view_module_version": "1.5.0",
      "_view_name": "ProgressView",
      "bar_style": "success",
      "description": "",
      "description_tooltip": null,
      "layout": "IPY_MODEL_b5f5db5ca51e45e4af8142fdd5f2bd55",
      "max": 1,
      "min": 0,
      "orientation": "horizontal",
      "style": "IPY_MODEL_1cd206e091594fce9fd4a6b73fd784bc",
      "value": 1
     }
    },
    "a8e4308dcdb04d93b07f5dc6e152f6b4": {
     "model_module": "@jupyter-widgets/base",
     "model_name": "LayoutModel",
     "state": {
      "_model_module": "@jupyter-widgets/base",
      "_model_module_version": "1.2.0",
      "_model_name": "LayoutModel",
      "_view_count": null,
      "_view_module": "@jupyter-widgets/base",
      "_view_module_version": "1.2.0",
      "_view_name": "LayoutView",
      "align_content": null,
      "align_items": null,
      "align_self": null,
      "border": null,
      "bottom": null,
      "display": null,
      "flex": null,
      "flex_flow": null,
      "grid_area": null,
      "grid_auto_columns": null,
      "grid_auto_flow": null,
      "grid_auto_rows": null,
      "grid_column": null,
      "grid_gap": null,
      "grid_row": null,
      "grid_template_areas": null,
      "grid_template_columns": null,
      "grid_template_rows": null,
      "height": null,
      "justify_content": null,
      "justify_items": null,
      "left": null,
      "margin": null,
      "max_height": null,
      "max_width": null,
      "min_height": null,
      "min_width": null,
      "object_fit": null,
      "object_position": null,
      "order": null,
      "overflow": null,
      "overflow_x": null,
      "overflow_y": null,
      "padding": null,
      "right": null,
      "top": null,
      "visibility": null,
      "width": null
     }
    },
    "a9f1c48d595e4d36afea84a6134b2fcd": {
     "model_module": "@jupyter-widgets/controls",
     "model_name": "HTMLModel",
     "state": {
      "_dom_classes": [],
      "_model_module": "@jupyter-widgets/controls",
      "_model_module_version": "1.5.0",
      "_model_name": "HTMLModel",
      "_view_count": null,
      "_view_module": "@jupyter-widgets/controls",
      "_view_module_version": "1.5.0",
      "_view_name": "HTMLView",
      "description": "",
      "description_tooltip": null,
      "layout": "IPY_MODEL_7e9af16406d34af093af844204bb2077",
      "placeholder": "​",
      "style": "IPY_MODEL_c9e72290d6db4babb1079954f7503ecd",
      "value": " 4423680/? [00:02&lt;00:00, 2041654.13it/s]"
     }
    },
    "b5f5db5ca51e45e4af8142fdd5f2bd55": {
     "model_module": "@jupyter-widgets/base",
     "model_name": "LayoutModel",
     "state": {
      "_model_module": "@jupyter-widgets/base",
      "_model_module_version": "1.2.0",
      "_model_name": "LayoutModel",
      "_view_count": null,
      "_view_module": "@jupyter-widgets/base",
      "_view_module_version": "1.2.0",
      "_view_name": "LayoutView",
      "align_content": null,
      "align_items": null,
      "align_self": null,
      "border": null,
      "bottom": null,
      "display": null,
      "flex": null,
      "flex_flow": null,
      "grid_area": null,
      "grid_auto_columns": null,
      "grid_auto_flow": null,
      "grid_auto_rows": null,
      "grid_column": null,
      "grid_gap": null,
      "grid_row": null,
      "grid_template_areas": null,
      "grid_template_columns": null,
      "grid_template_rows": null,
      "height": null,
      "justify_content": null,
      "justify_items": null,
      "left": null,
      "margin": null,
      "max_height": null,
      "max_width": null,
      "min_height": null,
      "min_width": null,
      "object_fit": null,
      "object_position": null,
      "order": null,
      "overflow": null,
      "overflow_x": null,
      "overflow_y": null,
      "padding": null,
      "right": null,
      "top": null,
      "visibility": null,
      "width": null
     }
    },
    "c141632d6bbc44259501dd6f4b30c11e": {
     "model_module": "@jupyter-widgets/base",
     "model_name": "LayoutModel",
     "state": {
      "_model_module": "@jupyter-widgets/base",
      "_model_module_version": "1.2.0",
      "_model_name": "LayoutModel",
      "_view_count": null,
      "_view_module": "@jupyter-widgets/base",
      "_view_module_version": "1.2.0",
      "_view_name": "LayoutView",
      "align_content": null,
      "align_items": null,
      "align_self": null,
      "border": null,
      "bottom": null,
      "display": null,
      "flex": null,
      "flex_flow": null,
      "grid_area": null,
      "grid_auto_columns": null,
      "grid_auto_flow": null,
      "grid_auto_rows": null,
      "grid_column": null,
      "grid_gap": null,
      "grid_row": null,
      "grid_template_areas": null,
      "grid_template_columns": null,
      "grid_template_rows": null,
      "height": null,
      "justify_content": null,
      "justify_items": null,
      "left": null,
      "margin": null,
      "max_height": null,
      "max_width": null,
      "min_height": null,
      "min_width": null,
      "object_fit": null,
      "object_position": null,
      "order": null,
      "overflow": null,
      "overflow_x": null,
      "overflow_y": null,
      "padding": null,
      "right": null,
      "top": null,
      "visibility": null,
      "width": null
     }
    },
    "c9e72290d6db4babb1079954f7503ecd": {
     "model_module": "@jupyter-widgets/controls",
     "model_name": "DescriptionStyleModel",
     "state": {
      "_model_module": "@jupyter-widgets/controls",
      "_model_module_version": "1.5.0",
      "_model_name": "DescriptionStyleModel",
      "_view_count": null,
      "_view_module": "@jupyter-widgets/base",
      "_view_module_version": "1.2.0",
      "_view_name": "StyleView",
      "description_width": ""
     }
    },
    "cc032e091bf044a4a949c4e87f78d717": {
     "model_module": "@jupyter-widgets/controls",
     "model_name": "ProgressStyleModel",
     "state": {
      "_model_module": "@jupyter-widgets/controls",
      "_model_module_version": "1.5.0",
      "_model_name": "ProgressStyleModel",
      "_view_count": null,
      "_view_module": "@jupyter-widgets/base",
      "_view_module_version": "1.2.0",
      "_view_name": "StyleView",
      "bar_color": null,
      "description_width": "initial"
     }
    },
    "d8313b0a1c074446bcc18718afb30143": {
     "model_module": "@jupyter-widgets/controls",
     "model_name": "FloatProgressModel",
     "state": {
      "_dom_classes": [],
      "_model_module": "@jupyter-widgets/controls",
      "_model_module_version": "1.5.0",
      "_model_name": "FloatProgressModel",
      "_view_count": null,
      "_view_module": "@jupyter-widgets/controls",
      "_view_module_version": "1.5.0",
      "_view_name": "ProgressView",
      "bar_style": "success",
      "description": "",
      "description_tooltip": null,
      "layout": "IPY_MODEL_94f04b91ebc94a70ae66ddc8422b6bc8",
      "max": 1,
      "min": 0,
      "orientation": "horizontal",
      "style": "IPY_MODEL_0456993f894f4315b2ab0fec6dd9a622",
      "value": 1
     }
    },
    "ddb0ff7376e444379fd8de642675c3db": {
     "model_module": "@jupyter-widgets/controls",
     "model_name": "HBoxModel",
     "state": {
      "_dom_classes": [],
      "_model_module": "@jupyter-widgets/controls",
      "_model_module_version": "1.5.0",
      "_model_name": "HBoxModel",
      "_view_count": null,
      "_view_module": "@jupyter-widgets/controls",
      "_view_module_version": "1.5.0",
      "_view_name": "HBoxView",
      "box_style": "",
      "children": [
       "IPY_MODEL_527f4497392e48b3be03db8371c50654",
       "IPY_MODEL_a9f1c48d595e4d36afea84a6134b2fcd"
      ],
      "layout": "IPY_MODEL_7601122455b24327a3b6b33801d14e6a"
     }
    },
    "e5815bc07cd543259193a5f527d5f5f9": {
     "model_module": "@jupyter-widgets/base",
     "model_name": "LayoutModel",
     "state": {
      "_model_module": "@jupyter-widgets/base",
      "_model_module_version": "1.2.0",
      "_model_name": "LayoutModel",
      "_view_count": null,
      "_view_module": "@jupyter-widgets/base",
      "_view_module_version": "1.2.0",
      "_view_name": "LayoutView",
      "align_content": null,
      "align_items": null,
      "align_self": null,
      "border": null,
      "bottom": null,
      "display": null,
      "flex": null,
      "flex_flow": null,
      "grid_area": null,
      "grid_auto_columns": null,
      "grid_auto_flow": null,
      "grid_auto_rows": null,
      "grid_column": null,
      "grid_gap": null,
      "grid_row": null,
      "grid_template_areas": null,
      "grid_template_columns": null,
      "grid_template_rows": null,
      "height": null,
      "justify_content": null,
      "justify_items": null,
      "left": null,
      "margin": null,
      "max_height": null,
      "max_width": null,
      "min_height": null,
      "min_width": null,
      "object_fit": null,
      "object_position": null,
      "order": null,
      "overflow": null,
      "overflow_x": null,
      "overflow_y": null,
      "padding": null,
      "right": null,
      "top": null,
      "visibility": null,
      "width": null
     }
    },
    "e82871d1a5b54cb69bb12cb5e751f393": {
     "model_module": "@jupyter-widgets/controls",
     "model_name": "HBoxModel",
     "state": {
      "_dom_classes": [],
      "_model_module": "@jupyter-widgets/controls",
      "_model_module_version": "1.5.0",
      "_model_name": "HBoxModel",
      "_view_count": null,
      "_view_module": "@jupyter-widgets/controls",
      "_view_module_version": "1.5.0",
      "_view_name": "HBoxView",
      "box_style": "",
      "children": [
       "IPY_MODEL_39843fea36e84c31bbf0f6d0d8580556",
       "IPY_MODEL_a496f3e1576441a08f473ff23c2af2d7"
      ],
      "layout": "IPY_MODEL_947c2a0e1adc4083b0ddfce035f4fe54"
     }
    }
   }
  }
 },
 "nbformat": 4,
 "nbformat_minor": 1
}
