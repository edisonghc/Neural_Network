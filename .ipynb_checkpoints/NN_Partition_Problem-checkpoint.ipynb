{
 "cells": [
  {
   "cell_type": "code",
   "execution_count": 520,
   "metadata": {},
   "outputs": [],
   "source": [
    "import numpy as np\n",
    "import matplotlib.pyplot as plt\n",
    "import time"
   ]
  },
  {
   "cell_type": "code",
   "execution_count": 529,
   "metadata": {},
   "outputs": [],
   "source": [
    "feature = np.array([],dtype=int)\n",
    "for i in range(2):\n",
    "    for j in range(2):\n",
    "        for m in range(2):\n",
    "            for n in range(2):\n",
    "                feature = np.append(feature,[i,j,m,n])\n",
    "\n",
    "feature = np.reshape(feature,(16,4))\n",
    "\n",
    "target = np.array([[s%2 for s in feature.sum(axis=1)]]).T"
   ]
  },
  {
   "cell_type": "code",
   "execution_count": 530,
   "metadata": {},
   "outputs": [
    {
     "name": "stdout",
     "output_type": "stream",
     "text": [
      "[[0 0 0 0]\n",
      " [0 0 0 1]\n",
      " [0 0 1 0]\n",
      " [0 0 1 1]\n",
      " [0 1 0 0]\n",
      " [0 1 0 1]\n",
      " [0 1 1 0]\n",
      " [0 1 1 1]\n",
      " [1 0 0 0]\n",
      " [1 0 0 1]\n",
      " [1 0 1 0]\n",
      " [1 0 1 1]\n",
      " [1 1 0 0]\n",
      " [1 1 0 1]\n",
      " [1 1 1 0]\n",
      " [1 1 1 1]]\n",
      "\n",
      "[[0]\n",
      " [1]\n",
      " [1]\n",
      " [0]\n",
      " [1]\n",
      " [0]\n",
      " [0]\n",
      " [1]\n",
      " [1]\n",
      " [0]\n",
      " [0]\n",
      " [1]\n",
      " [0]\n",
      " [1]\n",
      " [1]\n",
      " [0]]\n"
     ]
    }
   ],
   "source": [
    "print(feature)\n",
    "print()\n",
    "print(target)"
   ]
  },
  {
   "cell_type": "code",
   "execution_count": 531,
   "metadata": {},
   "outputs": [],
   "source": [
    "class Dense:\n",
    "    def __init__(self, n_output_nodes):\n",
    "        self.n_output = n_output_nodes\n",
    "    \n",
    "    def build(self, n_input):\n",
    "        self.weight = np.random.uniform(low=-1, high=1, size=(n_input + 1, self.n_output))\n",
    "        self.output = np.zeros((1, self.n_output))\n",
    "    \n",
    "    def call(self, x):\n",
    "        self.input = np.append(x,1)\n",
    "        v = np.matmul(self.input, self.weight)\n",
    "        self.output = 1 / (1 + np.exp(-v))\n",
    "        \n",
    "        return self.output"
   ]
  },
  {
   "cell_type": "code",
   "execution_count": 532,
   "metadata": {},
   "outputs": [
    {
     "data": {
      "text/plain": [
       "array([0.4767296 , 0.45863976, 0.25550647, 0.49327017])"
      ]
     },
     "execution_count": 532,
     "metadata": {},
     "output_type": "execute_result"
    }
   ],
   "source": [
    "np.random.seed(2020)\n",
    "layer = Dense(4)\n",
    "layer.build(4)\n",
    "layer.call(feature[1])"
   ]
  },
  {
   "cell_type": "code",
   "execution_count": 611,
   "metadata": {},
   "outputs": [],
   "source": [
    "class Multilayers:\n",
    "    def __init__(self, x_shape, layers):\n",
    "        self.model = layers\n",
    "        self.n_layers = len(layers)\n",
    "        \n",
    "        n_input = x_shape\n",
    "        for layer in self.model:\n",
    "            layer.build(n_input)\n",
    "            n_input = layer.n_output\n",
    "            \n",
    "    def predict(self, x):\n",
    "        #self.outputs = dict()\n",
    "        \n",
    "        input_signal = x\n",
    "        for i, layer in zip(range(self.n_layers), self.model):\n",
    "            output_signal = layer.call(input_signal)\n",
    "            #self.outputs[i] = output_signal\n",
    "            input_signal = output_signal\n",
    "\n",
    "        self.y = output_signal\n",
    "        return self.y\n",
    "    \n",
    "    def __derivative(output):\n",
    "        return output * (1 - output)\n",
    "    \n",
    "    def back_prop(self, target):\n",
    "        learn_rate = 0.1\n",
    "        \n",
    "        i = 0\n",
    "        for layer in reversed(self.model):\n",
    "            #prime = self.__derivative(layer.output)\n",
    "            prime = layer.output * (1 - layer.output)\n",
    "            \n",
    "            if i == 0:\n",
    "                deltas = (target - self.y) * prime\n",
    "            else:\n",
    "                deltas = prime * np.inner(deltas, prev_weight[:-1])\n",
    "            i+=1\n",
    "            prev_weight = np.copy(layer.weight)\n",
    "          \n",
    "            layer.weight += learn_rate * np.outer(layer.input, deltas)\n",
    "         "
   ]
  },
  {
   "cell_type": "code",
   "execution_count": 608,
   "metadata": {},
   "outputs": [
    {
     "data": {
      "text/plain": [
       "array([0.59519486])"
      ]
     },
     "execution_count": 608,
     "metadata": {},
     "output_type": "execute_result"
    }
   ],
   "source": [
    "np.random.seed(2020)\n",
    "\n",
    "model = Multilayers(4,[\n",
    "    Dense(4),\n",
    "    Dense(1)\n",
    "])\n",
    "\n",
    "model.predict(feature[0])\n"
   ]
  },
  {
   "cell_type": "code",
   "execution_count": 609,
   "metadata": {},
   "outputs": [],
   "source": [
    "def train(model, feature, target):\n",
    "    epoch_size = len(feature)\n",
    "    order = np.random.choice(range(epoch_size),size=epoch_size, replace=False)\n",
    "    error = np.array([])\n",
    "    for i in order:\n",
    "        output = model.predict(feature[i])\n",
    "        model.back_prop(target[i])\n",
    "        error = np.append(error, target[i] - output)\n",
    "    return np.absolute(error).mean() #np.absolute(error).max()"
   ]
  },
  {
   "cell_type": "code",
   "execution_count": 625,
   "metadata": {},
   "outputs": [
    {
     "name": "stdout",
     "output_type": "stream",
     "text": [
      "0 0.5003570379936395\n",
      "2000 0.5021212213492161\n",
      "4000 0.5019998652101454\n",
      "6000 0.5018884382996655\n",
      "8000 0.5017977276031786\n",
      "--- 11.101446866989136 seconds ---\n",
      "10000 0.5017049115423553\n"
     ]
    },
    {
     "data": {
      "text/plain": [
       "[<matplotlib.lines.Line2D at 0x7fec2dc0c940>]"
      ]
     },
     "execution_count": 625,
     "metadata": {},
     "output_type": "execute_result"
    },
    {
     "data": {
      "image/png": "[encoded data removed]",
      "text/plain": [
       "<Figure size 432x288 with 1 Axes>"
      ]
     },
     "metadata": {
      "needs_background": "light"
     },
     "output_type": "display_data"
    }
   ],
   "source": [
    "model = Multilayers(4,[\n",
    "    Dense(4),\n",
    "    Dense(1)\n",
    "])\n",
    "\n",
    "error = 1\n",
    "history = []\n",
    "\n",
    "start_time = time.time()\n",
    "i=0\n",
    "while error > 0.05 and i < 10000:\n",
    "    error = train(model, feature, target)\n",
    "    history = np.append(history,error)\n",
    "\n",
    "    if i % 2000 == 0:\n",
    "        print(i, error)\n",
    "        \n",
    "    i += 1\n",
    "\n",
    "print(\"--- %s seconds ---\" % (time.time() - start_time))\n",
    "print(i, error)\n",
    "\n",
    "plt.plot(history)"
   ]
  },
  {
   "cell_type": "code",
   "execution_count": 626,
   "metadata": {},
   "outputs": [
    {
     "data": {
      "text/plain": [
       "0.5625"
      ]
     },
     "execution_count": 626,
     "metadata": {},
     "output_type": "execute_result"
    }
   ],
   "source": [
    "np.absolute(np.array([int(model.predict(x)>0.5) for x in feature]) -  target.ravel()).mean()"
   ]
  },
  {
   "cell_type": "code",
   "execution_count": 627,
   "metadata": {},
   "outputs": [
    {
     "data": {
      "text/plain": [
       "array([ 0, -1, -1,  0, -1,  0,  1,  0, -1,  0,  1,  0,  1, -1,  0,  1])"
      ]
     },
     "execution_count": 627,
     "metadata": {},
     "output_type": "execute_result"
    }
   ],
   "source": [
    "np.array([int(model.predict(x)>0.5) for x in feature]) -  target.ravel()"
   ]
  },
  {
   "cell_type": "code",
   "execution_count": null,
   "metadata": {},
   "outputs": [],
   "source": []
  }
 ],
 "metadata": {
  "kernelspec": {
   "display_name": "Python 3",
   "language": "python",
   "name": "python3"
  },
  "language_info": {
   "codemirror_mode": {
    "name": "ipython",
    "version": 3
   },
   "file_extension": ".py",
   "mimetype": "text/x-python",
   "name": "python",
   "nbconvert_exporter": "python",
   "pygments_lexer": "ipython3",
   "version": "3.7.3"
  }
 },
 "nbformat": 4,
 "nbformat_minor": 2
}
