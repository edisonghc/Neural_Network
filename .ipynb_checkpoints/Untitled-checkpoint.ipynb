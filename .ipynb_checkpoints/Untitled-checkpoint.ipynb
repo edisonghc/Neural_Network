{
 "cells": [
  {
   "cell_type": "code",
   "execution_count": 268,
   "metadata": {},
   "outputs": [],
   "source": [
    "import numpy as np"
   ]
  },
  {
   "cell_type": "code",
   "execution_count": 311,
   "metadata": {},
   "outputs": [],
   "source": [
    "feature = np.array([],dtype=int)\n",
    "for i in range(2):\n",
    "    for j in range(2):\n",
    "        for m in range(2):\n",
    "            for n in range(2):\n",
    "                feature = np.append(feature,[i,j,m,n])\n",
    "\n",
    "feature = np.reshape(feature,(16,4))\n",
    "\n",
    "target = np.array([[s%2 for s in feature.sum(axis=1)],[s%2 for s in feature.sum(axis=1)]]).T"
   ]
  },
  {
   "cell_type": "code",
   "execution_count": 312,
   "metadata": {},
   "outputs": [
    {
     "name": "stdout",
     "output_type": "stream",
     "text": [
      "[[0 0 0 0]\n",
      " [0 0 0 1]\n",
      " [0 0 1 0]\n",
      " [0 0 1 1]\n",
      " [0 1 0 0]\n",
      " [0 1 0 1]\n",
      " [0 1 1 0]\n",
      " [0 1 1 1]\n",
      " [1 0 0 0]\n",
      " [1 0 0 1]\n",
      " [1 0 1 0]\n",
      " [1 0 1 1]\n",
      " [1 1 0 0]\n",
      " [1 1 0 1]\n",
      " [1 1 1 0]\n",
      " [1 1 1 1]]\n",
      "\n",
      "[[0 0]\n",
      " [1 1]\n",
      " [1 1]\n",
      " [0 0]\n",
      " [1 1]\n",
      " [0 0]\n",
      " [0 0]\n",
      " [1 1]\n",
      " [1 1]\n",
      " [0 0]\n",
      " [0 0]\n",
      " [1 1]\n",
      " [0 0]\n",
      " [1 1]\n",
      " [1 1]\n",
      " [0 0]]\n"
     ]
    }
   ],
   "source": [
    "print(feature)\n",
    "print()\n",
    "print(target)"
   ]
  },
  {
   "cell_type": "code",
   "execution_count": 413,
   "metadata": {},
   "outputs": [],
   "source": [
    "class Dense:\n",
    "    def __init__(self, n_output_nodes):\n",
    "        self.n_output = n_output_nodes\n",
    "    \n",
    "    def build(self, n_input):\n",
    "        self.weight = np.random.uniform(low=-1, high=1, size=(n_input + 1, self.n_output))\n",
    "        self.output = np.zeros((1, self.n_output))\n",
    "    \n",
    "    def call(self, x):\n",
    "        self.input = np.append(x,1)\n",
    "        v = np.matmul(self.input, self.weight)\n",
    "        self.output = 1 / (1 + np.exp(-v))\n",
    "        \n",
    "        return self.output"
   ]
  },
  {
   "cell_type": "code",
   "execution_count": 414,
   "metadata": {},
   "outputs": [
    {
     "data": {
      "text/plain": [
       "array([0.4767296 , 0.45863976, 0.25550647, 0.49327017])"
      ]
     },
     "execution_count": 414,
     "metadata": {},
     "output_type": "execute_result"
    }
   ],
   "source": [
    "np.random.seed(2020)\n",
    "layer = Dense(4)\n",
    "layer.build(4)\n",
    "layer.call(feature[1])"
   ]
  },
  {
   "cell_type": "code",
   "execution_count": 448,
   "metadata": {},
   "outputs": [],
   "source": [
    "class Multilayers:\n",
    "    def __init__(self, x_shape, layers):\n",
    "        self.model = layers\n",
    "        self.n_layers = len(layers)\n",
    "        \n",
    "        n_input = x_shape\n",
    "        for layer in self.model:\n",
    "            layer.build(n_input)\n",
    "            n_input = layer.n_output\n",
    "            \n",
    "    def predict(self, x):\n",
    "        self.outputs = dict()\n",
    "        \n",
    "        input_signal = x\n",
    "        for i, layer in zip(range(self.n_layers), self.model):\n",
    "            output_signal = layer.call(input_signal)\n",
    "            self.outputs[i] = output_signal\n",
    "            input_signal = output_signal\n",
    "\n",
    "        self.y = output_signal\n",
    "        return self.y\n",
    "    \n",
    "    def __derivative(output):\n",
    "        return output * (1 - output)\n",
    "    \n",
    "    def back_prop(self, target):\n",
    "        learn_rate = 0.1\n",
    "        \n",
    "        for i, layer in zip(range(self.n_layers), reversed(self.model)):\n",
    "            #prime = self.__derivative(layer.output)\n",
    "            prime = layer.output * (1 - layer.output)\n",
    "            \n",
    "            if i == 0:\n",
    "                deltas = (target - self.y) * prime\n",
    "            else:\n",
    "                deltas = prime * np.inner(deltas, prev_weight)[:-1]\n",
    "            \n",
    "            prev_weight = np.copy(layer.weight)\n",
    "          \n",
    "            layer.weight += learn_rate * np.outer(layer.input,deltas)\n",
    "         "
   ]
  },
  {
   "cell_type": "code",
   "execution_count": 461,
   "metadata": {},
   "outputs": [
    {
     "data": {
      "text/plain": [
       "array([0.80997585, 0.58343753])"
      ]
     },
     "execution_count": 461,
     "metadata": {},
     "output_type": "execute_result"
    }
   ],
   "source": [
    "np.random.seed(2020)\n",
    "\n",
    "model = Multilayers(4,[\n",
    "    Dense(4),\n",
    "    Dense(3),\n",
    "    Dense(2)\n",
    "])\n",
    "\n",
    "model.predict(feature[0])\n"
   ]
  },
  {
   "cell_type": "code",
   "execution_count": 502,
   "metadata": {},
   "outputs": [
    {
     "data": {
      "text/plain": [
       "array([ 0.18768516,  0.40972804, -0.81084915, -0.5882934 ,  0.19105705,\n",
       "        0.41154254,  0.1932233 ,  0.41822393,  0.18954634,  0.40409767,\n",
       "       -0.81324922, -0.60713694,  0.18804938,  0.39535893,  0.1902506 ,\n",
       "        0.39925472, -0.80784084, -0.59827207, -0.80900187, -0.60434898,\n",
       "       -0.80040648, -0.58648369,  0.20102765,  0.41394107,  0.20019001,\n",
       "        0.41063067, -0.79974269, -0.59003376, -0.79753441, -0.59254964,\n",
       "       -0.79338553, -0.58395822])"
      ]
     },
     "execution_count": 502,
     "metadata": {},
     "output_type": "execute_result"
    }
   ],
   "source": [
    "epoch_size = len(feature)\n",
    "order = np.random.choice(range(epoch_size),size=epoch_size, replace=False)\n",
    "error = np.array([])\n",
    "for i in order:\n",
    "    output = model.predict(feature[i])\n",
    "    model.back_prop(target[i])\n",
    "    error = np.append(error,target[i] - output)\n",
    "error"
   ]
  },
  {
   "cell_type": "code",
   "execution_count": 465,
   "metadata": {},
   "outputs": [
    {
     "ename": "SyntaxError",
     "evalue": "unexpected EOF while parsing (<ipython-input-465-f3ecc661790d>, line 3)",
     "output_type": "error",
     "traceback": [
      "\u001b[0;36m  File \u001b[0;32m\"<ipython-input-465-f3ecc661790d>\"\u001b[0;36m, line \u001b[0;32m3\u001b[0m\n\u001b[0;31m    \u001b[0m\n\u001b[0m    ^\u001b[0m\n\u001b[0;31mSyntaxError\u001b[0m\u001b[0;31m:\u001b[0m unexpected EOF while parsing\n"
     ]
    }
   ],
   "source": [
    "error = 1\n",
    "while error > 0.05:\n",
    "    "
   ]
  },
  {
   "cell_type": "code",
   "execution_count": null,
   "metadata": {},
   "outputs": [],
   "source": []
  }
 ],
 "metadata": {
  "kernelspec": {
   "display_name": "Python 3",
   "language": "python",
   "name": "python3"
  },
  "language_info": {
   "codemirror_mode": {
    "name": "ipython",
    "version": 3
   },
   "file_extension": ".py",
   "mimetype": "text/x-python",
   "name": "python",
   "nbconvert_exporter": "python",
   "pygments_lexer": "ipython3",
   "version": "3.7.3"
  }
 },
 "nbformat": 4,
 "nbformat_minor": 2
}
